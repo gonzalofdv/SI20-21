{
 "cells": [
  {
   "cell_type": "markdown",
   "metadata": {},
   "source": [
    "- Número de grupo: 10\n",
    "- Nombre de los integrantes del grupo: Gonzalo Figueroa del Val, Miguel Robledo Casal y Guillermo Calvo Suárez\n"
   ]
  },
  {
   "cell_type": "markdown",
   "metadata": {
    "colab_type": "text",
    "id": "71I5krFqJpcc"
   },
   "source": [
    "# Práctica 3 : representación de conocimiento \n",
    "\n",
    "\n",
    "## Parte 1: consultas SPARQL sobre Wikidata."
   ]
  },
  {
   "cell_type": "markdown",
   "metadata": {},
   "source": [
    "### Ejemplo\n",
    "\n",
    "Recuperar todas las instancias directas de la clase [Cabra (Q2934)](https://www.wikidata.org/wiki/Q2934) que aparecen en la base de conocimiento."
   ]
  },
  {
   "cell_type": "markdown",
   "metadata": {},
   "source": [
    "En esta práctica vamos a usar el punto de acceso [SPARQL](https://query.wikidata.org/) de Wikidata para contestar las preguntas que se formulan a continuación. Cada pregunta debe ser respondida realizando una única consulta SPARQL. Para cada una de las entidades recuperadas se mostrará __tanto su identificador como su etiqueta__ (nombre de la entidad en lenguaje natural). "
   ]
  },
  {
   "cell_type": "raw",
   "metadata": {},
   "source": [
    "#Esta celda es de tipo Raw NBConvert y así jupyter notebook no la interpreta al ejecutarla. \n",
    "#Hay que copiar y pegar la consulta en el punto de acceso SPARQL en https://query.wikidata.org/\n",
    "SELECT ?item ?itemLabel \n",
    "WHERE \n",
    "{\n",
    "  ?item wdt:P31 wd:Q2934.  # instancias directas de la clase Cabra (goat (Q2934)) instance of (P31)\n",
    "  SERVICE wikibase:label { bd:serviceParam wikibase:language \"[AUTO_LANGUAGE],en\". }\n",
    "}"
   ]
  },
  {
   "cell_type": "markdown",
   "metadata": {},
   "source": [
    "<html><head><meta charset=\"utf-8\"></head><body><table><thead><tr><th>item</th><th>itemLabel</th></tr></thead><tbody><tr><td>http://www.wikidata.org/entity/Q151345</td><td>Billygoat Hennes</td></tr><tr><td>http://www.wikidata.org/entity/Q3569037</td><td>William Windsor</td></tr><tr><td>http://www.wikidata.org/entity/Q23003932</td><td>His Whiskers</td></tr><tr><td>http://www.wikidata.org/entity/Q24287064</td><td>Taffy</td></tr><tr><td>http://www.wikidata.org/entity/Q41239734</td><td>Lance Corporal Shenkin III</td></tr><tr><td>http://www.wikidata.org/entity/Q41240892</td><td>Lance Corporal Shenkin II</td></tr><tr><td>http://www.wikidata.org/entity/Q41241416</td><td>Lance Corporal Shenkin I</td></tr><tr><td>http://www.wikidata.org/entity/Q65326499</td><td>Konkan kanyal</td></tr></tbody></table></body></html>"
   ]
  },
  {
   "cell_type": "markdown",
   "metadata": {},
   "source": [
    "El punto de acceso SPARQL de Wikidata ofrece ciertos extras sobre el estándar. Por ejemplo, la línea SERVICE de la consulta nos permite obtener automáticamente la etiqueta de cualquier item con sólo crear una nueva variable que termine en Label (por ejemplo ?itemLabel en la consulta)."
   ]
  },
  {
   "cell_type": "markdown",
   "metadata": {},
   "source": [
    "Podemos utilizar el paquete [qwikidata](https://qwikidata.readthedocs.io/en/stable/) para acceder a Wikidata desde un programa Python.\n",
    "#### Descomentar para instalar el paquete"
   ]
  },
  {
   "cell_type": "code",
   "execution_count": 2,
   "metadata": {},
   "outputs": [
    {
     "name": "stdout",
     "output_type": "stream",
     "text": [
      "Requirement already satisfied: qwikidata in c:\\users\\gonza\\anaconda3\\lib\\site-packages (0.4.0)\n",
      "Requirement already satisfied: mypy-extensions in c:\\users\\gonza\\anaconda3\\lib\\site-packages (from qwikidata) (0.4.3)\n",
      "Requirement already satisfied: requests in c:\\users\\gonza\\anaconda3\\lib\\site-packages (from qwikidata) (2.24.0)\n",
      "Requirement already satisfied: idna<3,>=2.5 in c:\\users\\gonza\\anaconda3\\lib\\site-packages (from requests->qwikidata) (2.10)\n",
      "Requirement already satisfied: certifi>=2017.4.17 in c:\\users\\gonza\\anaconda3\\lib\\site-packages (from requests->qwikidata) (2020.6.20)\n",
      "Requirement already satisfied: urllib3!=1.25.0,!=1.25.1,<1.26,>=1.21.1 in c:\\users\\gonza\\anaconda3\\lib\\site-packages (from requests->qwikidata) (1.25.9)\n",
      "Requirement already satisfied: chardet<4,>=3.0.2 in c:\\users\\gonza\\anaconda3\\lib\\site-packages (from requests->qwikidata) (3.0.4)\n",
      "Note: you may need to restart the kernel to use updated packages.\n"
     ]
    }
   ],
   "source": [
    "%pip install qwikidata"
   ]
  },
  {
   "cell_type": "code",
   "execution_count": 2,
   "metadata": {},
   "outputs": [
    {
     "data": {
      "text/plain": [
       "{'head': {'vars': ['item', 'itemLabel']},\n",
       " 'results': {'bindings': [{'item': {'type': 'uri',\n",
       "     'value': 'http://www.wikidata.org/entity/Q151345'},\n",
       "    'itemLabel': {'xml:lang': 'en',\n",
       "     'type': 'literal',\n",
       "     'value': 'Billygoat Hennes'}},\n",
       "   {'item': {'type': 'uri',\n",
       "     'value': 'http://www.wikidata.org/entity/Q3569037'},\n",
       "    'itemLabel': {'xml:lang': 'en',\n",
       "     'type': 'literal',\n",
       "     'value': 'William Windsor'}},\n",
       "   {'item': {'type': 'uri',\n",
       "     'value': 'http://www.wikidata.org/entity/Q23003932'},\n",
       "    'itemLabel': {'xml:lang': 'en',\n",
       "     'type': 'literal',\n",
       "     'value': 'His Whiskers'}},\n",
       "   {'item': {'type': 'uri',\n",
       "     'value': 'http://www.wikidata.org/entity/Q24287064'},\n",
       "    'itemLabel': {'xml:lang': 'en', 'type': 'literal', 'value': 'Taffy'}},\n",
       "   {'item': {'type': 'uri',\n",
       "     'value': 'http://www.wikidata.org/entity/Q41239734'},\n",
       "    'itemLabel': {'xml:lang': 'en',\n",
       "     'type': 'literal',\n",
       "     'value': 'Lance Corporal Shenkin III'}},\n",
       "   {'item': {'type': 'uri',\n",
       "     'value': 'http://www.wikidata.org/entity/Q41240892'},\n",
       "    'itemLabel': {'xml:lang': 'en',\n",
       "     'type': 'literal',\n",
       "     'value': 'Lance Corporal Shenkin II'}},\n",
       "   {'item': {'type': 'uri',\n",
       "     'value': 'http://www.wikidata.org/entity/Q41241416'},\n",
       "    'itemLabel': {'xml:lang': 'en',\n",
       "     'type': 'literal',\n",
       "     'value': 'Lance Corporal Shenkin I'}}]}}"
      ]
     },
     "execution_count": 2,
     "metadata": {},
     "output_type": "execute_result"
    }
   ],
   "source": [
    "from qwikidata.sparql import return_sparql_query_results\n",
    "\n",
    "sparql_query = \"\"\"\n",
    "SELECT ?item ?itemLabel \n",
    "WHERE \n",
    "{\n",
    "  ?item wdt:P31 wd:Q2934.\n",
    "  SERVICE wikibase:label { bd:serviceParam wikibase:language \"en\". }\n",
    "}\n",
    "\"\"\"\n",
    "res = return_sparql_query_results(sparql_query)\n",
    "res"
   ]
  },
  {
   "cell_type": "markdown",
   "metadata": {},
   "source": []
  },
  {
   "cell_type": "code",
   "execution_count": 3,
   "metadata": {},
   "outputs": [
    {
     "data": {
      "text/plain": [
       "['Q4022',\n",
       " 'Q100649',\n",
       " 'Q159675',\n",
       " 'Q543408',\n",
       " 'Q591942',\n",
       " 'Q653247',\n",
       " 'Q794428',\n",
       " 'Q1074069',\n",
       " 'Q1140845',\n",
       " 'Q1299258',\n",
       " 'Q1460693',\n",
       " 'Q1531228',\n",
       " 'Q1720683',\n",
       " 'Q1746748',\n",
       " 'Q1986504',\n",
       " 'Q2230783',\n",
       " 'Q2375084',\n",
       " 'Q2557367',\n",
       " 'Q3073652',\n",
       " 'Q3196604',\n",
       " 'Q4176368',\n",
       " 'Q4366834',\n",
       " 'Q4392849',\n",
       " 'Q4392856',\n",
       " 'Q4733366',\n",
       " 'Q4879406',\n",
       " 'Q5371585',\n",
       " 'Q7164110',\n",
       " 'Q7300165',\n",
       " 'Q7580767',\n",
       " 'Q8026426',\n",
       " 'Q10670417',\n",
       " 'Q10875106',\n",
       " 'Q11514609',\n",
       " 'Q11553102',\n",
       " 'Q11564407',\n",
       " 'Q12099220',\n",
       " 'Q12149663',\n",
       " 'Q12309892',\n",
       " 'Q12818517',\n",
       " 'Q16465938',\n",
       " 'Q16638716',\n",
       " 'Q17105134',\n",
       " 'Q18915937',\n",
       " 'Q20529834',\n",
       " 'Q21079327',\n",
       " 'Q21573828',\n",
       " 'Q25556322',\n",
       " 'Q27067659',\n",
       " 'Q42122394',\n",
       " 'Q51205815',\n",
       " 'Q55610863',\n",
       " 'Q56388869',\n",
       " 'Q60061427',\n",
       " 'Q60823417',\n",
       " 'Q71184245',\n",
       " 'Q98242145',\n",
       " 'Q98242280',\n",
       " 'Q100717822',\n",
       " 'Q10857944',\n",
       " 'Q12048869',\n",
       " 'Q90905898',\n",
       " 'Q3058945',\n",
       " 'Q21504956']"
      ]
     },
     "execution_count": 3,
     "metadata": {},
     "output_type": "execute_result"
    }
   ],
   "source": [
    "# También hay alguna función de utilidad extra que nos permite, por ejemplo, obtener las subclases de una entidad.\n",
    "from qwikidata.sparql import get_subclasses_of_item\n",
    "Q_RIVER = \"Q4022\"\n",
    "subclasses_of_river = get_subclasses_of_item(Q_RIVER)\n",
    "subclasses_of_river"
   ]
  },
  {
   "cell_type": "markdown",
   "metadata": {},
   "source": [
    "### Interfaz Linked data\n",
    "\n",
    "Podemos recuperar la información de distintas entidades y propiedades de Wikidata y acceder a ellas mediante objetos de Python. En este ejemplo vamos a trabajar con el item [Douglas Adams (Q42)](https://www.wikidata.org/wiki/Q42)."
   ]
  },
  {
   "cell_type": "code",
   "execution_count": 4,
   "metadata": {},
   "outputs": [
    {
     "data": {
      "text/plain": [
       "WikidataItem(label=Douglas Adams, id=Q42, description=English writer and humorist, aliases=['Douglas Noel Adams', 'Douglas Noël Adams', 'Douglas N. Adams'], enwiki_title=Douglas Adams)"
      ]
     },
     "execution_count": 4,
     "metadata": {},
     "output_type": "execute_result"
    }
   ],
   "source": [
    "from qwikidata.entity import WikidataItem, WikidataProperty, WikidataLexeme \n",
    "from qwikidata.linked_data_interface import get_entity_dict_from_api\n",
    "\n",
    "# obtener un objeto con la información del escritor douglas Adams\n",
    "Q_DOUGLAS_ADAMS = 'Q42'\n",
    "q42_dict = get_entity_dict_from_api(Q_DOUGLAS_ADAMS)\n",
    "q42 = WikidataItem(q42_dict)\n",
    "q42"
   ]
  },
  {
   "cell_type": "code",
   "execution_count": 5,
   "metadata": {},
   "outputs": [
    {
     "data": {
      "text/plain": [
       "'item'"
      ]
     },
     "execution_count": 5,
     "metadata": {},
     "output_type": "execute_result"
    }
   ],
   "source": [
    "#Podemos navegar por la información del objeto q42\n",
    "q42.entity_type"
   ]
  },
  {
   "cell_type": "code",
   "execution_count": 6,
   "metadata": {},
   "outputs": [
    {
     "data": {
      "text/plain": [
       "'Douglas Adams'"
      ]
     },
     "execution_count": 6,
     "metadata": {},
     "output_type": "execute_result"
    }
   ],
   "source": [
    "q42.get_label()"
   ]
  },
  {
   "cell_type": "code",
   "execution_count": 7,
   "metadata": {},
   "outputs": [
    {
     "data": {
      "text/plain": [
       "'English writer and humorist'"
      ]
     },
     "execution_count": 7,
     "metadata": {},
     "output_type": "execute_result"
    }
   ],
   "source": [
    "q42.get_description()"
   ]
  },
  {
   "cell_type": "code",
   "execution_count": 8,
   "metadata": {},
   "outputs": [
    {
     "data": {
      "text/plain": [
       "['Douglas Noel Adams', 'Douglas Noël Adams', 'Douglas N. Adams']"
      ]
     },
     "execution_count": 8,
     "metadata": {},
     "output_type": "execute_result"
    }
   ],
   "source": [
    "q42.get_aliases()"
   ]
  },
  {
   "cell_type": "code",
   "execution_count": 9,
   "metadata": {},
   "outputs": [
    {
     "data": {
      "text/plain": [
       "WikidataItem(label=goat, id=Q2934, description=domesticated mammal raised primarily for its milk, aliases=['domestic goat'], enwiki_title=Goat)"
      ]
     },
     "execution_count": 9,
     "metadata": {},
     "output_type": "execute_result"
    }
   ],
   "source": [
    "# prueba a meter la info de cabra wd:Q2934\n",
    "Q_CABRA = 'Q2934'\n",
    "q_dict = get_entity_dict_from_api(Q_CABRA)\n",
    "q = WikidataItem(q_dict)\n",
    "q"
   ]
  },
  {
   "cell_type": "markdown",
   "metadata": {},
   "source": [
    "Haz lo mismo para encontrar algo de información sobre [Steven Spielberg](https://www.wikidata.org/wiki/Q8877)."
   ]
  },
  {
   "cell_type": "markdown",
   "metadata": {},
   "source": []
  },
  {
   "cell_type": "markdown",
   "metadata": {},
   "source": [
    "Se proponen varias consultas. Para cada una de las preguntas debes mostrar tanto la consulta como la respuesta obtenida.\n",
    "\n",
    " - La __consulta__ debe estar en una celda de tipo _Raw NBConvert_ para que jupyter no trate de interpretarla. Cada tripleta de la consulta debe tener un breve comentario a la derecha que la explique (los comentarios empiezan con #). \n",
    " - La __respuesta__ debe estar en una celda de tipo _Markdown_. Puedes descargar las respuestas usando la opción _Descargar >> HTML Table_ y copiar el código HTML en esta celda. Al ejecutar la celda se mostrará en forma de tabla.\n",
    " - Si lo consideras necesario, puedes añadir celdas adicionales en formato _Markdown_ para explicar decisiones que hayas tomado al crear la consulta o cualquier otro dato que consideres interesante.\n",
    " \n",
    " \n",
    "__Para resolver estas consultas necesitarás aprender algo más de SPARQL de lo que hemos contado en clase__. Los dos recursos que te recomendamos consultar son:\n",
    "\n",
    "- [Este tutorial de SPARQL](https://www.wikidata.org/wiki/Wikidata:SPARQL_tutorial).\n",
    "- [Esta recopilación de ejemplos](https://www.wikidata.org/wiki/Wikidata:SPARQL_query_service/queries/examples)\n",
    "\n",
    "\n",
    "Puedes probar las consultas en el punto de acceso SPARQL[SPARQL](https://query.wikidata.org/) de Wikidata y copiar la respuesta en otra celda. \n",
    "No es necesario lanzar las consultas desde el paquete [qwikidata](https://qwikidata.readthedocs.io/en/stable/) para acceder a Wikidata desde un programa Python aunque puedes hacerlo si lo prefieres.\n",
    "\n",
    "Lo importante son las consultas SPARQL. Cada pregunta debe ser respondida realizando una única consulta SPARQL. Para cada una de las entidades recuperadas se mostrará __tanto su identificador como su etiqueta__ (nombre de la entidad en lenguaje natural). "
   ]
  },
  {
   "cell_type": "markdown",
   "metadata": {},
   "source": [
    "### Consulta 1\n",
    "\n",
    "[Steven Allan Spielberg (Q8877)](https://www.wikidata.org/wiki/Q8877) es uno de los directores más reconocidos y populares de la industria cinematográfica mundial. Escribe una consulta que te permita averiguar su fecha y lugar de nacimiento."
   ]
  },
  {
   "cell_type": "markdown",
   "metadata": {},
   "source": [
    "El resultado es: Nacio el 18 de diciembre de 1946\ten wd:Q43196\tCincinnati\n",
    "Debes escribir una consulta para obtener estos datos.\n",
    "Pistas: Lugar de nacimiento (P19) de Spielberg (Q8877)\n",
    "        Fecha de nacimiento (P569) de Spielberg (Q8877)"
   ]
  },
  {
   "cell_type": "code",
   "execution_count": 10,
   "metadata": {},
   "outputs": [
    {
     "data": {
      "text/plain": [
       "{'head': {'vars': ['birth_date', 'birth_place', 'birth_placeLabel']},\n",
       " 'results': {'bindings': [{'birth_date': {'datatype': 'http://www.w3.org/2001/XMLSchema#dateTime',\n",
       "     'type': 'literal',\n",
       "     'value': '1946-12-18T00:00:00Z'},\n",
       "    'birth_place': {'type': 'uri',\n",
       "     'value': 'http://www.wikidata.org/entity/Q43196'},\n",
       "    'birth_placeLabel': {'xml:lang': 'en',\n",
       "     'type': 'literal',\n",
       "     'value': 'Cincinnati'}}]}}"
      ]
     },
     "execution_count": 10,
     "metadata": {},
     "output_type": "execute_result"
    }
   ],
   "source": [
    "from qwikidata.sparql import return_sparql_query_results\n",
    "\n",
    "sparql_query = \"\"\"\n",
    "SELECT ?birth_date ?birth_place ?birth_placeLabel\n",
    "WHERE\n",
    "{\n",
    "    wd:Q8877 wdt:P569 ?birth_date.\n",
    "    wd:Q8877 wdt:P19 ?birth_place.\n",
    "    SERVICE wikibase:label { bd:serviceParam wikibase:language \"en\". }\n",
    "}\n",
    "\"\"\"\n",
    "\n",
    "res = return_sparql_query_results(sparql_query)\n",
    "res"
   ]
  },
  {
   "cell_type": "markdown",
   "metadata": {},
   "source": [
    "<html><head><meta charset=\"utf-8\"></head><body><table><thead><tr><th>birth_date</th><th>birth_place</th><th>birth_placeLabel</th></tr></thead><tbody><tr><td>1946-12-18T00:00:00Z</td><td>http://www.wikidata.org/entity/Q43196</td><td>Cincinnati</td></tr></tbody></table></body></html>"
   ]
  },
  {
   "cell_type": "markdown",
   "metadata": {},
   "source": []
  },
  {
   "cell_type": "markdown",
   "metadata": {},
   "source": [
    "### Consulta 2\n",
    "\n",
    "Además, se sabe que Spielberg es muy polifacetico.. vamos a averiguar todas las distintas profesiones (ocupaciones) (P106) de Spielberg (Q8877)en la base de conocimiento. Queremos obtener los resultados ordenados alfabéticamente por el nombre de la profesión."
   ]
  },
  {
   "cell_type": "code",
   "execution_count": 11,
   "metadata": {},
   "outputs": [
    {
     "data": {
      "text/plain": [
       "{'head': {'vars': ['ocupaciones', 'ocupacionesLabel']},\n",
       " 'results': {'bindings': [{'ocupaciones': {'type': 'uri',\n",
       "     'value': 'http://www.wikidata.org/entity/Q33999'},\n",
       "    'ocupacionesLabel': {'xml:lang': 'en',\n",
       "     'type': 'literal',\n",
       "     'value': 'actor'}},\n",
       "   {'ocupaciones': {'type': 'uri',\n",
       "     'value': 'http://www.wikidata.org/entity/Q10732476'},\n",
       "    'ocupacionesLabel': {'xml:lang': 'en',\n",
       "     'type': 'literal',\n",
       "     'value': 'art collector'}},\n",
       "   {'ocupaciones': {'type': 'uri',\n",
       "     'value': 'http://www.wikidata.org/entity/Q43845'},\n",
       "    'ocupacionesLabel': {'xml:lang': 'en',\n",
       "     'type': 'literal',\n",
       "     'value': 'businessperson'}},\n",
       "   {'ocupaciones': {'type': 'uri',\n",
       "     'value': 'http://www.wikidata.org/entity/Q3455803'},\n",
       "    'ocupacionesLabel': {'xml:lang': 'en',\n",
       "     'type': 'literal',\n",
       "     'value': 'director'}},\n",
       "   {'ocupaciones': {'type': 'uri',\n",
       "     'value': 'http://www.wikidata.org/entity/Q1053574'},\n",
       "    'ocupacionesLabel': {'xml:lang': 'en',\n",
       "     'type': 'literal',\n",
       "     'value': 'executive producer'}},\n",
       "   {'ocupaciones': {'type': 'uri',\n",
       "     'value': 'http://www.wikidata.org/entity/Q10800557'},\n",
       "    'ocupacionesLabel': {'xml:lang': 'en',\n",
       "     'type': 'literal',\n",
       "     'value': 'film actor'}},\n",
       "   {'ocupaciones': {'type': 'uri',\n",
       "     'value': 'http://www.wikidata.org/entity/Q2526255'},\n",
       "    'ocupacionesLabel': {'xml:lang': 'en',\n",
       "     'type': 'literal',\n",
       "     'value': 'film director'}},\n",
       "   {'ocupaciones': {'type': 'uri',\n",
       "     'value': 'http://www.wikidata.org/entity/Q7042855'},\n",
       "    'ocupacionesLabel': {'xml:lang': 'en',\n",
       "     'type': 'literal',\n",
       "     'value': 'film editor'}},\n",
       "   {'ocupaciones': {'type': 'uri',\n",
       "     'value': 'http://www.wikidata.org/entity/Q3282637'},\n",
       "    'ocupacionesLabel': {'xml:lang': 'en',\n",
       "     'type': 'literal',\n",
       "     'value': 'film producer'}},\n",
       "   {'ocupaciones': {'type': 'uri',\n",
       "     'value': 'http://www.wikidata.org/entity/Q18844224'},\n",
       "    'ocupacionesLabel': {'xml:lang': 'en',\n",
       "     'type': 'literal',\n",
       "     'value': 'science fiction writer'}},\n",
       "   {'ocupaciones': {'type': 'uri',\n",
       "     'value': 'http://www.wikidata.org/entity/Q28389'},\n",
       "    'ocupacionesLabel': {'xml:lang': 'en',\n",
       "     'type': 'literal',\n",
       "     'value': 'screenwriter'}},\n",
       "   {'ocupaciones': {'type': 'uri',\n",
       "     'value': 'http://www.wikidata.org/entity/Q578109'},\n",
       "    'ocupacionesLabel': {'xml:lang': 'en',\n",
       "     'type': 'literal',\n",
       "     'value': 'television producer'}}]}}"
      ]
     },
     "execution_count": 11,
     "metadata": {},
     "output_type": "execute_result"
    }
   ],
   "source": [
    "from qwikidata.sparql import return_sparql_query_results\n",
    "\n",
    "sparql_query = \"\"\"\n",
    "SELECT ?ocupaciones ?ocupacionesLabel\n",
    "WHERE\n",
    "{\n",
    "    wd:Q8877 wdt:P106 ?ocupaciones.\n",
    "    SERVICE wikibase:label { bd:serviceParam wikibase:language \"en\". }\n",
    "}\n",
    "ORDER BY ASC (?ocupacionesLabel) #Por defecto el orden se hace de forma ascendente, pero incluimos ASC para ser más concretos\n",
    "\"\"\"\n",
    "\n",
    "res = return_sparql_query_results(sparql_query)\n",
    "res"
   ]
  },
  {
   "cell_type": "markdown",
   "metadata": {},
   "source": [
    "<html><head><meta charset=\"utf-8\"></head><body><table><thead><tr><th>ocupaciones</th><th>ocupacionesLabel</th></tr></thead><tbody><tr><td>http://www.wikidata.org/entity/Q33999</td><td>actor</td></tr><tr><td>http://www.wikidata.org/entity/Q10732476</td><td>art collector</td></tr><tr><td>http://www.wikidata.org/entity/Q43845</td><td>businessperson</td></tr><tr><td>http://www.wikidata.org/entity/Q3455803</td><td>director</td></tr><tr><td>http://www.wikidata.org/entity/Q1053574</td><td>executive producer</td></tr><tr><td>http://www.wikidata.org/entity/Q10800557</td><td>film actor</td></tr><tr><td>http://www.wikidata.org/entity/Q2526255</td><td>film director</td></tr><tr><td>http://www.wikidata.org/entity/Q7042855</td><td>film editor</td></tr><tr><td>http://www.wikidata.org/entity/Q3282637</td><td>film producer</td></tr><tr><td>http://www.wikidata.org/entity/Q18844224</td><td>science fiction writer</td></tr><tr><td>http://www.wikidata.org/entity/Q28389</td><td>screenwriter</td></tr><tr><td>http://www.wikidata.org/entity/Q578109</td><td>television producer</td></tr></tbody></table></body></html>"
   ]
  },
  {
   "cell_type": "markdown",
   "metadata": {},
   "source": []
  },
  {
   "cell_type": "markdown",
   "metadata": {},
   "source": [
    "### Consulta 3\n",
    "Averigua también el nombre de su padre y de sus hermanos.\n"
   ]
  },
  {
   "cell_type": "code",
   "execution_count": 12,
   "metadata": {},
   "outputs": [
    {
     "data": {
      "text/plain": [
       "{'head': {'vars': ['father', 'fatherLabel', 'sibling', 'siblingLabel']},\n",
       " 'results': {'bindings': [{'father': {'type': 'uri',\n",
       "     'value': 'http://www.wikidata.org/entity/Q15784029'},\n",
       "    'sibling': {'type': 'uri',\n",
       "     'value': 'http://www.wikidata.org/entity/Q469204'},\n",
       "    'fatherLabel': {'xml:lang': 'en',\n",
       "     'type': 'literal',\n",
       "     'value': 'Arnold Spielberg'},\n",
       "    'siblingLabel': {'xml:lang': 'en',\n",
       "     'type': 'literal',\n",
       "     'value': 'Anne Spielberg'}}]}}"
      ]
     },
     "execution_count": 12,
     "metadata": {},
     "output_type": "execute_result"
    }
   ],
   "source": [
    "from qwikidata.sparql import return_sparql_query_results\n",
    "\n",
    "sparql_query = \"\"\"\n",
    "SELECT ?father ?fatherLabel ?sibling ?siblingLabel\n",
    "WHERE\n",
    "{\n",
    "    wd:Q8877 wdt:P22 ?father.\n",
    "    wd:Q8877 wdt:P3373 ?sibling.\n",
    "    SERVICE wikibase:label { bd:serviceParam wikibase:language \"en\". }\n",
    "}\n",
    "\"\"\"\n",
    "\n",
    "res = return_sparql_query_results(sparql_query)\n",
    "res"
   ]
  },
  {
   "cell_type": "markdown",
   "metadata": {},
   "source": [
    "<html><head><meta charset=\"utf-8\"></head><body><table><thead><tr><th>father</th><th>fatherLabel</th><th>sibling</th><th>siblingLabel</th></tr></thead><tbody><tr><td>http://www.wikidata.org/entity/Q15784029</td><td>Arnold Spielberg</td><td>http://www.wikidata.org/entity/Q469204</td><td>Anne Spielberg</td></tr></tbody></table></body></html>"
   ]
  },
  {
   "cell_type": "markdown",
   "metadata": {},
   "source": [
    "### Consulta 4\n",
    "Ahora queremos conocer el título de todas las películas que Spielberg ha dirigido. Se mostrarán ordenadas alfabéticamente y debes tener cuidado de no mostrar resultados repetidos. Ten en cuenta que puede haber distintos tipos de películas."
   ]
  },
  {
   "cell_type": "code",
   "execution_count": 13,
   "metadata": {},
   "outputs": [
    {
     "data": {
      "text/plain": [
       "{'head': {'vars': ['film', 'filmLabel']},\n",
       " 'results': {'bindings': [{'film': {'type': 'uri',\n",
       "     'value': 'http://www.wikidata.org/entity/Q207482'},\n",
       "    'filmLabel': {'xml:lang': 'en', 'type': 'literal', 'value': '1941'}},\n",
       "   {'film': {'type': 'uri', 'value': 'http://www.wikidata.org/entity/Q221113'},\n",
       "    'filmLabel': {'xml:lang': 'en',\n",
       "     'type': 'literal',\n",
       "     'value': 'A.I. Artificial Intelligence'}},\n",
       "   {'film': {'type': 'uri', 'value': 'http://www.wikidata.org/entity/Q449743'},\n",
       "    'filmLabel': {'xml:lang': 'en', 'type': 'literal', 'value': 'Always'}},\n",
       "   {'film': {'type': 'uri', 'value': 'http://www.wikidata.org/entity/Q472361'},\n",
       "    'filmLabel': {'xml:lang': 'en', 'type': 'literal', 'value': 'Amistad'}},\n",
       "   {'film': {'type': 'uri',\n",
       "     'value': 'http://www.wikidata.org/entity/Q18067135'},\n",
       "    'filmLabel': {'xml:lang': 'en',\n",
       "     'type': 'literal',\n",
       "     'value': 'Bridge of Spies'}},\n",
       "   {'film': {'type': 'uri', 'value': 'http://www.wikidata.org/entity/Q208108'},\n",
       "    'filmLabel': {'xml:lang': 'en',\n",
       "     'type': 'literal',\n",
       "     'value': 'Catch Me If You Can'}},\n",
       "   {'film': {'type': 'uri', 'value': 'http://www.wikidata.org/entity/Q320588'},\n",
       "    'filmLabel': {'xml:lang': 'en',\n",
       "     'type': 'literal',\n",
       "     'value': 'Close Encounters of the Third Kind'}},\n",
       "   {'film': {'type': 'uri', 'value': 'http://www.wikidata.org/entity/Q11621'},\n",
       "    'filmLabel': {'xml:lang': 'en',\n",
       "     'type': 'literal',\n",
       "     'value': 'E.T. the Extra-Terrestrial'}},\n",
       "   {'film': {'type': 'uri', 'value': 'http://www.wikidata.org/entity/Q271281'},\n",
       "    'filmLabel': {'xml:lang': 'en',\n",
       "     'type': 'literal',\n",
       "     'value': 'Empire of the Sun'}},\n",
       "   {'film': {'type': 'uri',\n",
       "     'value': 'http://www.wikidata.org/entity/Q3057871'},\n",
       "    'filmLabel': {'xml:lang': 'en',\n",
       "     'type': 'literal',\n",
       "     'value': 'Escape to Nowhere'}},\n",
       "   {'film': {'type': 'uri', 'value': 'http://www.wikidata.org/entity/Q591320'},\n",
       "    'filmLabel': {'xml:lang': 'en', 'type': 'literal', 'value': 'Firelight'}},\n",
       "   {'film': {'type': 'uri', 'value': 'http://www.wikidata.org/entity/Q182373'},\n",
       "    'filmLabel': {'xml:lang': 'en',\n",
       "     'type': 'literal',\n",
       "     'value': 'Indiana Jones and the Kingdom of the Crystal Skull'}},\n",
       "   {'film': {'type': 'uri', 'value': 'http://www.wikidata.org/entity/Q185658'},\n",
       "    'filmLabel': {'xml:lang': 'en',\n",
       "     'type': 'literal',\n",
       "     'value': 'Indiana Jones and the Last Crusade'}},\n",
       "   {'film': {'type': 'uri', 'value': 'http://www.wikidata.org/entity/Q179215'},\n",
       "    'filmLabel': {'xml:lang': 'en',\n",
       "     'type': 'literal',\n",
       "     'value': 'Indiana Jones and the Temple of Doom'}},\n",
       "   {'film': {'type': 'uri', 'value': 'http://www.wikidata.org/entity/Q189505'},\n",
       "    'filmLabel': {'xml:lang': 'en', 'type': 'literal', 'value': 'Jaws'}},\n",
       "   {'film': {'type': 'uri', 'value': 'http://www.wikidata.org/entity/Q167726'},\n",
       "    'filmLabel': {'xml:lang': 'en',\n",
       "     'type': 'literal',\n",
       "     'value': 'Jurassic Park'}},\n",
       "   {'film': {'type': 'uri',\n",
       "     'value': 'http://www.wikidata.org/entity/Q18276472'},\n",
       "    'filmLabel': {'xml:lang': 'en',\n",
       "     'type': 'literal',\n",
       "     'value': 'Jurassic Park 3D'}},\n",
       "   {'film': {'type': 'uri', 'value': 'http://www.wikidata.org/entity/Q32433'},\n",
       "    'filmLabel': {'xml:lang': 'en', 'type': 'literal', 'value': 'Lincoln'}},\n",
       "   {'film': {'type': 'uri', 'value': 'http://www.wikidata.org/entity/Q244604'},\n",
       "    'filmLabel': {'xml:lang': 'en',\n",
       "     'type': 'literal',\n",
       "     'value': 'Minority Report'}},\n",
       "   {'film': {'type': 'uri', 'value': 'http://www.wikidata.org/entity/Q152456'},\n",
       "    'filmLabel': {'xml:lang': 'en', 'type': 'literal', 'value': 'Munich'}},\n",
       "   {'film': {'type': 'uri', 'value': 'http://www.wikidata.org/entity/Q174284'},\n",
       "    'filmLabel': {'xml:lang': 'en',\n",
       "     'type': 'literal',\n",
       "     'value': 'Raiders of the Lost Ark'}},\n",
       "   {'film': {'type': 'uri', 'value': 'http://www.wikidata.org/entity/Q165817'},\n",
       "    'filmLabel': {'xml:lang': 'en',\n",
       "     'type': 'literal',\n",
       "     'value': 'Saving Private Ryan'}},\n",
       "   {'film': {'type': 'uri', 'value': 'http://www.wikidata.org/entity/Q483941'},\n",
       "    'filmLabel': {'xml:lang': 'en',\n",
       "     'type': 'literal',\n",
       "     'value': \"Schindler's List\"}},\n",
       "   {'film': {'type': 'uri', 'value': 'http://www.wikidata.org/entity/Q223299'},\n",
       "    'filmLabel': {'xml:lang': 'en',\n",
       "     'type': 'literal',\n",
       "     'value': 'The Color Purple'}},\n",
       "   {'film': {'type': 'uri', 'value': 'http://www.wikidata.org/entity/Q200873'},\n",
       "    'filmLabel': {'xml:lang': 'en',\n",
       "     'type': 'literal',\n",
       "     'value': 'The Lost World: Jurassic Park'}},\n",
       "   {'film': {'type': 'uri',\n",
       "     'value': 'http://www.wikidata.org/entity/Q30203425'},\n",
       "    'filmLabel': {'xml:lang': 'en', 'type': 'literal', 'value': 'The Post'}},\n",
       "   {'film': {'type': 'uri', 'value': 'http://www.wikidata.org/entity/Q432526'},\n",
       "    'filmLabel': {'xml:lang': 'en',\n",
       "     'type': 'literal',\n",
       "     'value': 'The Sugarland Express'}},\n",
       "   {'film': {'type': 'uri', 'value': 'http://www.wikidata.org/entity/Q318766'},\n",
       "    'filmLabel': {'xml:lang': 'en',\n",
       "     'type': 'literal',\n",
       "     'value': 'The Terminal'}},\n",
       "   {'film': {'type': 'uri',\n",
       "     'value': 'http://www.wikidata.org/entity/Q11791805'},\n",
       "    'filmLabel': {'xml:lang': 'en',\n",
       "     'type': 'literal',\n",
       "     'value': 'The Unfinished Journey'}},\n",
       "   {'film': {'type': 'uri',\n",
       "     'value': 'http://www.wikidata.org/entity/Q1330737'},\n",
       "    'filmLabel': {'xml:lang': 'en',\n",
       "     'type': 'literal',\n",
       "     'value': 'Twilight Zone: The Movie'}},\n",
       "   {'film': {'type': 'uri', 'value': 'http://www.wikidata.org/entity/Q218589'},\n",
       "    'filmLabel': {'xml:lang': 'en', 'type': 'literal', 'value': 'War Horse'}},\n",
       "   {'film': {'type': 'uri', 'value': 'http://www.wikidata.org/entity/Q202028'},\n",
       "    'filmLabel': {'xml:lang': 'en',\n",
       "     'type': 'literal',\n",
       "     'value': 'War of the Worlds'}},\n",
       "   {'film': {'type': 'uri',\n",
       "     'value': 'http://www.wikidata.org/entity/Q63643994'},\n",
       "    'filmLabel': {'xml:lang': 'en',\n",
       "     'type': 'literal',\n",
       "     'value': 'West Side Story'}}]}}"
      ]
     },
     "execution_count": 13,
     "metadata": {},
     "output_type": "execute_result"
    }
   ],
   "source": [
    "from qwikidata.sparql import return_sparql_query_results\n",
    "\n",
    "sparql_query = \"\"\"\n",
    "SELECT DISTINCT ?film ?filmLabel #Utilizando DISTINCT elegimos resultados únicos\n",
    "WHERE \n",
    "{\n",
    "    ?film wdt:P31 wd:Q11424. #Titulo instancia (P31) de pelicula (Q11424)\n",
    "    ?film wdt:P57 wd:Q8877. #Pelicula dirigida por (P57) Steven Spielberg (Q8877)\n",
    "    SERVICE wikibase:label { bd:serviceParam wikibase:language \"en\". }\n",
    "}\n",
    "ORDER BY ASC (?filmLabel)\n",
    "\"\"\"\n",
    "\n",
    "res = return_sparql_query_results(sparql_query)\n",
    "res"
   ]
  },
  {
   "cell_type": "markdown",
   "metadata": {},
   "source": [
    "<html><head><meta charset=\"utf-8\"></head><body><table><thead><tr><th>film</th><th>filmLabel</th></tr></thead><tbody><tr><td>http://www.wikidata.org/entity/Q207482</td><td>1941</td></tr><tr><td>http://www.wikidata.org/entity/Q221113</td><td>A.I. Artificial Intelligence</td></tr><tr><td>http://www.wikidata.org/entity/Q449743</td><td>Always</td></tr><tr><td>http://www.wikidata.org/entity/Q472361</td><td>Amistad</td></tr><tr><td>http://www.wikidata.org/entity/Q18067135</td><td>Bridge of Spies</td></tr><tr><td>http://www.wikidata.org/entity/Q208108</td><td>Catch Me If You Can</td></tr><tr><td>http://www.wikidata.org/entity/Q320588</td><td>Close Encounters of the Third Kind</td></tr><tr><td>http://www.wikidata.org/entity/Q11621</td><td>E.T. the Extra-Terrestrial</td></tr><tr><td>http://www.wikidata.org/entity/Q271281</td><td>Empire of the Sun</td></tr><tr><td>http://www.wikidata.org/entity/Q3057871</td><td>Escape to Nowhere</td></tr><tr><td>http://www.wikidata.org/entity/Q591320</td><td>Firelight</td></tr><tr><td>http://www.wikidata.org/entity/Q182373</td><td>Indiana Jones and the Kingdom of the Crystal Skull</td></tr><tr><td>http://www.wikidata.org/entity/Q185658</td><td>Indiana Jones and the Last Crusade</td></tr><tr><td>http://www.wikidata.org/entity/Q179215</td><td>Indiana Jones and the Temple of Doom</td></tr><tr><td>http://www.wikidata.org/entity/Q189505</td><td>Jaws</td></tr><tr><td>http://www.wikidata.org/entity/Q167726</td><td>Jurassic Park</td></tr><tr><td>http://www.wikidata.org/entity/Q18276472</td><td>Jurassic Park 3D</td></tr><tr><td>http://www.wikidata.org/entity/Q32433</td><td>Lincoln</td></tr><tr><td>http://www.wikidata.org/entity/Q244604</td><td>Minority Report</td></tr><tr><td>http://www.wikidata.org/entity/Q152456</td><td>Munich</td></tr><tr><td>http://www.wikidata.org/entity/Q174284</td><td>Raiders of the Lost Ark</td></tr><tr><td>http://www.wikidata.org/entity/Q165817</td><td>Saving Private Ryan</td></tr><tr><td>http://www.wikidata.org/entity/Q483941</td><td>Schindler's List</td></tr><tr><td>http://www.wikidata.org/entity/Q223299</td><td>The Color Purple</td></tr><tr><td>http://www.wikidata.org/entity/Q200873</td><td>The Lost World: Jurassic Park</td></tr><tr><td>http://www.wikidata.org/entity/Q30203425</td><td>The Post</td></tr><tr><td>http://www.wikidata.org/entity/Q432526</td><td>The Sugarland Express</td></tr><tr><td>http://www.wikidata.org/entity/Q318766</td><td>The Terminal</td></tr><tr><td>http://www.wikidata.org/entity/Q11791805</td><td>The Unfinished Journey</td></tr><tr><td>http://www.wikidata.org/entity/Q1330737</td><td>Twilight Zone: The Movie</td></tr><tr><td>http://www.wikidata.org/entity/Q218589</td><td>War Horse</td></tr><tr><td>http://www.wikidata.org/entity/Q202028</td><td>War of the Worlds</td></tr><tr><td>http://www.wikidata.org/entity/Q63643994</td><td>West Side Story</td></tr></tbody></table></body></html>"
   ]
  },
  {
   "cell_type": "markdown",
   "metadata": {},
   "source": [
    "### Consulta 5\n",
    "\n",
    "Ahora queremos conocer el título de todas las películas que Spielberg ha dirigido. Se mostrarán ordenadas alfabéticamente y debes tener cuidado de no mostrar resultados repetidos. Ten en cuenta que puede haber distintos tipos de películas."
   ]
  },
  {
   "cell_type": "markdown",
   "metadata": {},
   "source": [
    "### ¡¡¡La consulta 5 es igual que la 4!!!"
   ]
  },
  {
   "cell_type": "markdown",
   "metadata": {},
   "source": []
  },
  {
   "cell_type": "markdown",
   "metadata": {},
   "source": [
    "### Consulta 6\n",
    "\n",
    "Spielberg es sin duda un director prolífico. ¿Exactamente cuántas películas de ciencia ficción ha dirigido?"
   ]
  },
  {
   "cell_type": "code",
   "execution_count": 15,
   "metadata": {},
   "outputs": [
    {
     "data": {
      "text/plain": [
       "{'head': {'vars': ['count']},\n",
       " 'results': {'bindings': [{'count': {'datatype': 'http://www.w3.org/2001/XMLSchema#integer',\n",
       "     'type': 'literal',\n",
       "     'value': '9'}}]}}"
      ]
     },
     "execution_count": 15,
     "metadata": {},
     "output_type": "execute_result"
    }
   ],
   "source": [
    "from qwikidata.sparql import return_sparql_query_results\n",
    "\n",
    "sparql_query = \"\"\"\n",
    "SELECT (COUNT(*) as ?count)\n",
    "WHERE \n",
    "{\n",
    "    ?film wdt:P31 wd:Q11424. #Id pelicula instancia (P31) de pelicula (Q11424)\n",
    "    ?film wdt:P57 wd:Q8877. #Pelicula dirigida por (P57) Steven Spielberg (Q8877)\n",
    "    ?film wdt:P136 wd:Q471839. #Pelicula de genero (P136) science fiction film (Q471839)\n",
    "    SERVICE wikibase:label { bd:serviceParam wikibase:language \"en\". }\n",
    "}\n",
    "\"\"\"\n",
    "\n",
    "res = return_sparql_query_results(sparql_query)\n",
    "res"
   ]
  },
  {
   "cell_type": "markdown",
   "metadata": {},
   "source": [
    "<html><head><meta charset=\"utf-8\"></head><body><table><thead><tr><th>count</th></tr></thead><tbody><tr><td>9</td></tr></tbody></table></body></html>"
   ]
  },
  {
   "cell_type": "markdown",
   "metadata": {},
   "source": [
    "### Consulta 7\n",
    "\n",
    "Es importante que las películas tengan una duración adecuada, ni muy cortas ni demasiado largas. De todas las películas que ha dirigido Spielberg, ¿cuales duran entre 90 y 150 minutos? Para cada película muestra el título y la duración. Los resultados se deben mostrar ordenados alfabéticamente."
   ]
  },
  {
   "cell_type": "code",
   "execution_count": 14,
   "metadata": {},
   "outputs": [
    {
     "data": {
      "text/plain": [
       "{'head': {'vars': ['film', 'filmLabel', 'duracion']},\n",
       " 'results': {'bindings': [{'film': {'type': 'uri',\n",
       "     'value': 'http://www.wikidata.org/entity/Q207482'},\n",
       "    'duracion': {'datatype': 'http://www.w3.org/2001/XMLSchema#decimal',\n",
       "     'type': 'literal',\n",
       "     'value': '113'},\n",
       "    'filmLabel': {'xml:lang': 'en', 'type': 'literal', 'value': '1941'}},\n",
       "   {'film': {'type': 'uri', 'value': 'http://www.wikidata.org/entity/Q221113'},\n",
       "    'duracion': {'datatype': 'http://www.w3.org/2001/XMLSchema#decimal',\n",
       "     'type': 'literal',\n",
       "     'value': '146'},\n",
       "    'filmLabel': {'xml:lang': 'en',\n",
       "     'type': 'literal',\n",
       "     'value': 'A.I. Artificial Intelligence'}},\n",
       "   {'film': {'type': 'uri', 'value': 'http://www.wikidata.org/entity/Q449743'},\n",
       "    'duracion': {'datatype': 'http://www.w3.org/2001/XMLSchema#decimal',\n",
       "     'type': 'literal',\n",
       "     'value': '117'},\n",
       "    'filmLabel': {'xml:lang': 'en', 'type': 'literal', 'value': 'Always'}},\n",
       "   {'film': {'type': 'uri',\n",
       "     'value': 'http://www.wikidata.org/entity/Q18067135'},\n",
       "    'duracion': {'datatype': 'http://www.w3.org/2001/XMLSchema#decimal',\n",
       "     'type': 'literal',\n",
       "     'value': '142'},\n",
       "    'filmLabel': {'xml:lang': 'en',\n",
       "     'type': 'literal',\n",
       "     'value': 'Bridge of Spies'}},\n",
       "   {'film': {'type': 'uri', 'value': 'http://www.wikidata.org/entity/Q208108'},\n",
       "    'duracion': {'datatype': 'http://www.w3.org/2001/XMLSchema#decimal',\n",
       "     'type': 'literal',\n",
       "     'value': '135'},\n",
       "    'filmLabel': {'xml:lang': 'en',\n",
       "     'type': 'literal',\n",
       "     'value': 'Catch Me If You Can'}},\n",
       "   {'film': {'type': 'uri', 'value': 'http://www.wikidata.org/entity/Q320588'},\n",
       "    'duracion': {'datatype': 'http://www.w3.org/2001/XMLSchema#decimal',\n",
       "     'type': 'literal',\n",
       "     'value': '134'},\n",
       "    'filmLabel': {'xml:lang': 'en',\n",
       "     'type': 'literal',\n",
       "     'value': 'Close Encounters of the Third Kind'}},\n",
       "   {'film': {'type': 'uri', 'value': 'http://www.wikidata.org/entity/Q11621'},\n",
       "    'duracion': {'datatype': 'http://www.w3.org/2001/XMLSchema#decimal',\n",
       "     'type': 'literal',\n",
       "     'value': '115'},\n",
       "    'filmLabel': {'xml:lang': 'en',\n",
       "     'type': 'literal',\n",
       "     'value': 'E.T. the Extra-Terrestrial'}},\n",
       "   {'film': {'type': 'uri', 'value': 'http://www.wikidata.org/entity/Q591320'},\n",
       "    'duracion': {'datatype': 'http://www.w3.org/2001/XMLSchema#decimal',\n",
       "     'type': 'literal',\n",
       "     'value': '135'},\n",
       "    'filmLabel': {'xml:lang': 'en', 'type': 'literal', 'value': 'Firelight'}},\n",
       "   {'film': {'type': 'uri', 'value': 'http://www.wikidata.org/entity/Q182373'},\n",
       "    'duracion': {'datatype': 'http://www.w3.org/2001/XMLSchema#decimal',\n",
       "     'type': 'literal',\n",
       "     'value': '123'},\n",
       "    'filmLabel': {'xml:lang': 'en',\n",
       "     'type': 'literal',\n",
       "     'value': 'Indiana Jones and the Kingdom of the Crystal Skull'}},\n",
       "   {'film': {'type': 'uri', 'value': 'http://www.wikidata.org/entity/Q185658'},\n",
       "    'duracion': {'datatype': 'http://www.w3.org/2001/XMLSchema#decimal',\n",
       "     'type': 'literal',\n",
       "     'value': '122'},\n",
       "    'filmLabel': {'xml:lang': 'en',\n",
       "     'type': 'literal',\n",
       "     'value': 'Indiana Jones and the Last Crusade'}},\n",
       "   {'film': {'type': 'uri', 'value': 'http://www.wikidata.org/entity/Q179215'},\n",
       "    'duracion': {'datatype': 'http://www.w3.org/2001/XMLSchema#decimal',\n",
       "     'type': 'literal',\n",
       "     'value': '114'},\n",
       "    'filmLabel': {'xml:lang': 'en',\n",
       "     'type': 'literal',\n",
       "     'value': 'Indiana Jones and the Temple of Doom'}},\n",
       "   {'film': {'type': 'uri', 'value': 'http://www.wikidata.org/entity/Q189505'},\n",
       "    'duracion': {'datatype': 'http://www.w3.org/2001/XMLSchema#decimal',\n",
       "     'type': 'literal',\n",
       "     'value': '124'},\n",
       "    'filmLabel': {'xml:lang': 'en', 'type': 'literal', 'value': 'Jaws'}},\n",
       "   {'film': {'type': 'uri', 'value': 'http://www.wikidata.org/entity/Q167726'},\n",
       "    'duracion': {'datatype': 'http://www.w3.org/2001/XMLSchema#decimal',\n",
       "     'type': 'literal',\n",
       "     'value': '123'},\n",
       "    'filmLabel': {'xml:lang': 'en',\n",
       "     'type': 'literal',\n",
       "     'value': 'Jurassic Park'}},\n",
       "   {'film': {'type': 'uri',\n",
       "     'value': 'http://www.wikidata.org/entity/Q18276472'},\n",
       "    'duracion': {'datatype': 'http://www.w3.org/2001/XMLSchema#decimal',\n",
       "     'type': 'literal',\n",
       "     'value': '126'},\n",
       "    'filmLabel': {'xml:lang': 'en',\n",
       "     'type': 'literal',\n",
       "     'value': 'Jurassic Park 3D'}},\n",
       "   {'film': {'type': 'uri', 'value': 'http://www.wikidata.org/entity/Q244604'},\n",
       "    'duracion': {'datatype': 'http://www.w3.org/2001/XMLSchema#decimal',\n",
       "     'type': 'literal',\n",
       "     'value': '145'},\n",
       "    'filmLabel': {'xml:lang': 'en',\n",
       "     'type': 'literal',\n",
       "     'value': 'Minority Report'}},\n",
       "   {'film': {'type': 'uri', 'value': 'http://www.wikidata.org/entity/Q174284'},\n",
       "    'duracion': {'datatype': 'http://www.w3.org/2001/XMLSchema#decimal',\n",
       "     'type': 'literal',\n",
       "     'value': '111'},\n",
       "    'filmLabel': {'xml:lang': 'en',\n",
       "     'type': 'literal',\n",
       "     'value': 'Raiders of the Lost Ark'}},\n",
       "   {'film': {'type': 'uri', 'value': 'http://www.wikidata.org/entity/Q200873'},\n",
       "    'duracion': {'datatype': 'http://www.w3.org/2001/XMLSchema#decimal',\n",
       "     'type': 'literal',\n",
       "     'value': '129'},\n",
       "    'filmLabel': {'xml:lang': 'en',\n",
       "     'type': 'literal',\n",
       "     'value': 'The Lost World: Jurassic Park'}},\n",
       "   {'film': {'type': 'uri',\n",
       "     'value': 'http://www.wikidata.org/entity/Q30203425'},\n",
       "    'duracion': {'datatype': 'http://www.w3.org/2001/XMLSchema#decimal',\n",
       "     'type': 'literal',\n",
       "     'value': '115'},\n",
       "    'filmLabel': {'xml:lang': 'en', 'type': 'literal', 'value': 'The Post'}},\n",
       "   {'film': {'type': 'uri', 'value': 'http://www.wikidata.org/entity/Q432526'},\n",
       "    'duracion': {'datatype': 'http://www.w3.org/2001/XMLSchema#decimal',\n",
       "     'type': 'literal',\n",
       "     'value': '106'},\n",
       "    'filmLabel': {'xml:lang': 'en',\n",
       "     'type': 'literal',\n",
       "     'value': 'The Sugarland Express'}},\n",
       "   {'film': {'type': 'uri', 'value': 'http://www.wikidata.org/entity/Q318766'},\n",
       "    'duracion': {'datatype': 'http://www.w3.org/2001/XMLSchema#decimal',\n",
       "     'type': 'literal',\n",
       "     'value': '124'},\n",
       "    'filmLabel': {'xml:lang': 'en',\n",
       "     'type': 'literal',\n",
       "     'value': 'The Terminal'}},\n",
       "   {'film': {'type': 'uri',\n",
       "     'value': 'http://www.wikidata.org/entity/Q1330737'},\n",
       "    'duracion': {'datatype': 'http://www.w3.org/2001/XMLSchema#decimal',\n",
       "     'type': 'literal',\n",
       "     'value': '101'},\n",
       "    'filmLabel': {'xml:lang': 'en',\n",
       "     'type': 'literal',\n",
       "     'value': 'Twilight Zone: The Movie'}},\n",
       "   {'film': {'type': 'uri', 'value': 'http://www.wikidata.org/entity/Q218589'},\n",
       "    'duracion': {'datatype': 'http://www.w3.org/2001/XMLSchema#decimal',\n",
       "     'type': 'literal',\n",
       "     'value': '146'},\n",
       "    'filmLabel': {'xml:lang': 'en', 'type': 'literal', 'value': 'War Horse'}},\n",
       "   {'film': {'type': 'uri', 'value': 'http://www.wikidata.org/entity/Q202028'},\n",
       "    'duracion': {'datatype': 'http://www.w3.org/2001/XMLSchema#decimal',\n",
       "     'type': 'literal',\n",
       "     'value': '116'},\n",
       "    'filmLabel': {'xml:lang': 'en',\n",
       "     'type': 'literal',\n",
       "     'value': 'War of the Worlds'}}]}}"
      ]
     },
     "execution_count": 14,
     "metadata": {},
     "output_type": "execute_result"
    }
   ],
   "source": [
    "from qwikidata.sparql import return_sparql_query_results\n",
    "\n",
    "sparql_query = \"\"\"\n",
    "SELECT ?film ?filmLabel ?duracion\n",
    "WHERE \n",
    "{\n",
    "    ?film wdt:P31 wd:Q11424. #Titulo instancia (P31) de pelicula (Q11424)\n",
    "    ?film wdt:P57 wd:Q8877. #Pelicula dirigida por (P57) Steven Spielberg (Q8877)\n",
    "    ?film wdt:P2047 ?duracion #Duración de un evento (en este caso pelicula) --> P2047\n",
    "    FILTER(?duracion > 90 && ?duracion < 150) #Filtrado\n",
    "    SERVICE wikibase:label { bd:serviceParam wikibase:language \"en\". }\n",
    "}\n",
    "ORDER BY ASC (?filmLabel)\n",
    "\"\"\"\n",
    "\n",
    "res = return_sparql_query_results(sparql_query)\n",
    "res"
   ]
  },
  {
   "cell_type": "markdown",
   "metadata": {},
   "source": [
    "<html><head><meta charset=\"utf-8\"></head><body><table><thead><tr><th>film</th><th>filmLabel</th><th>duracion</th></tr></thead><tbody><tr><td>http://www.wikidata.org/entity/Q207482</td><td>1941</td><td>113</td></tr><tr><td>http://www.wikidata.org/entity/Q221113</td><td>A.I. Artificial Intelligence</td><td>146</td></tr><tr><td>http://www.wikidata.org/entity/Q449743</td><td>Always</td><td>117</td></tr><tr><td>http://www.wikidata.org/entity/Q18067135</td><td>Bridge of Spies</td><td>142</td></tr><tr><td>http://www.wikidata.org/entity/Q208108</td><td>Catch Me If You Can</td><td>135</td></tr><tr><td>http://www.wikidata.org/entity/Q320588</td><td>Close Encounters of the Third Kind</td><td>134</td></tr><tr><td>http://www.wikidata.org/entity/Q11621</td><td>E.T. the Extra-Terrestrial</td><td>115</td></tr><tr><td>http://www.wikidata.org/entity/Q591320</td><td>Firelight</td><td>135</td></tr><tr><td>http://www.wikidata.org/entity/Q182373</td><td>Indiana Jones and the Kingdom of the Crystal Skull</td><td>123</td></tr><tr><td>http://www.wikidata.org/entity/Q185658</td><td>Indiana Jones and the Last Crusade</td><td>122</td></tr><tr><td>http://www.wikidata.org/entity/Q179215</td><td>Indiana Jones and the Temple of Doom</td><td>114</td></tr><tr><td>http://www.wikidata.org/entity/Q189505</td><td>Jaws</td><td>124</td></tr><tr><td>http://www.wikidata.org/entity/Q167726</td><td>Jurassic Park</td><td>123</td></tr><tr><td>http://www.wikidata.org/entity/Q18276472</td><td>Jurassic Park 3D</td><td>126</td></tr><tr><td>http://www.wikidata.org/entity/Q244604</td><td>Minority Report</td><td>145</td></tr><tr><td>http://www.wikidata.org/entity/Q174284</td><td>Raiders of the Lost Ark</td><td>111</td></tr><tr><td>http://www.wikidata.org/entity/Q200873</td><td>The Lost World: Jurassic Park</td><td>129</td></tr><tr><td>http://www.wikidata.org/entity/Q30203425</td><td>The Post</td><td>115</td></tr><tr><td>http://www.wikidata.org/entity/Q432526</td><td>The Sugarland Express</td><td>106</td></tr><tr><td>http://www.wikidata.org/entity/Q318766</td><td>The Terminal</td><td>124</td></tr><tr><td>http://www.wikidata.org/entity/Q1330737</td><td>Twilight Zone: The Movie</td><td>101</td></tr><tr><td>http://www.wikidata.org/entity/Q218589</td><td>War Horse</td><td>146</td></tr><tr><td>http://www.wikidata.org/entity/Q202028</td><td>War of the Worlds</td><td>116</td></tr></tbody></table></body></html>"
   ]
  },
  {
   "cell_type": "markdown",
   "metadata": {},
   "source": [
    "##  Parte II: \n",
    "Elige un tema de tu interés y realiza consultas para obtener información relevante de la base de conocimiento de Wikidata. \n",
    "Por ejemplo, puede ser una serie de televisión (como Game of Thrones (Q23572) o los  Bridgerton (Q85748936), saga de películas (Star Wars (Q462)) o tu cantante o grupo favorito (Alejandro Sanz (Q276170)). \n",
    "O cualquier otro tema: instrumentos musicales, videojuegos (Q659563), geografía, arte,.. \n"
   ]
  },
  {
   "cell_type": "markdown",
   "metadata": {},
   "source": [
    "# The Rolling Stones\n",
    "\n",
    "Se han realizado 7 consultas sobre el grupo \"The Rolling Stones\", comenzando con 3 consultas básicas y terminando con 5 consultas más complejas que abarcan prácticamente toda la información relevante del grupo"
   ]
  },
  {
   "cell_type": "markdown",
   "metadata": {},
   "source": [
    "### Consulta 1\n",
    "\n",
    "Información básica sobre el grupo, tipo de grupo, año en el que se formó, localidad y país "
   ]
  },
  {
   "cell_type": "code",
   "execution_count": 17,
   "metadata": {},
   "outputs": [
    {
     "data": {
      "text/plain": [
       "{'head': {'vars': ['tipo',\n",
       "   'tipoLabel',\n",
       "   'fundacion',\n",
       "   'place',\n",
       "   'placeLabel',\n",
       "   'pais',\n",
       "   'paisLabel']},\n",
       " 'results': {'bindings': [{'tipo': {'type': 'uri',\n",
       "     'value': 'http://www.wikidata.org/entity/Q5741069'},\n",
       "    'place': {'type': 'uri',\n",
       "     'value': 'http://www.wikidata.org/entity/Q858775'},\n",
       "    'pais': {'type': 'uri', 'value': 'http://www.wikidata.org/entity/Q145'},\n",
       "    'tipoLabel': {'xml:lang': 'en', 'type': 'literal', 'value': 'rock group'},\n",
       "    'placeLabel': {'xml:lang': 'en', 'type': 'literal', 'value': 'Dartford'},\n",
       "    'paisLabel': {'xml:lang': 'en',\n",
       "     'type': 'literal',\n",
       "     'value': 'United Kingdom'},\n",
       "    'fundacion': {'datatype': 'http://www.w3.org/2001/XMLSchema#integer',\n",
       "     'type': 'literal',\n",
       "     'value': '1962'}}]}}"
      ]
     },
     "execution_count": 17,
     "metadata": {},
     "output_type": "execute_result"
    }
   ],
   "source": [
    "from qwikidata.sparql import return_sparql_query_results\n",
    "\n",
    "sparql_query = \"\"\"\n",
    "SELECT ?tipo ?tipoLabel (YEAR(?anio) as ?fundacion) ?place ?placeLabel ?pais ?paisLabel\n",
    "WHERE\n",
    "{\n",
    "    wd:Q11036 wdt:P31 ?tipo.\n",
    "    wd:Q11036 wdt:P571 ?anio.\n",
    "    wd:Q11036 wdt:P740 ?place.\n",
    "    wd:Q11036 wdt:P17 ?pais.\n",
    "    SERVICE wikibase:label { bd:serviceParam wikibase:language \"en\". }\n",
    "}\n",
    "\"\"\"\n",
    "res = return_sparql_query_results(sparql_query)\n",
    "res"
   ]
  },
  {
   "cell_type": "markdown",
   "metadata": {},
   "source": [
    "<html><head><meta charset=\"utf-8\"></head><body><table><thead><tr><th>tipo</th><th>tipoLabel</th><th>fundacion</th><th>place</th><th>placeLabel</th><th>pais</th><th>paisLabel</th></tr></thead><tbody><tr><td>http://www.wikidata.org/entity/Q5741069</td><td>rock group</td><td>1962</td><td>http://www.wikidata.org/entity/Q858775</td><td>Dartford</td><td>http://www.wikidata.org/entity/Q145</td><td>United Kingdom</td></tr></tbody></table></body></html>"
   ]
  },
  {
   "cell_type": "markdown",
   "metadata": {},
   "source": [
    "### Consulta 2\n",
    "\n",
    "Nombres de las personas que han formado parte del grupo y una foto de cada uno de ellos"
   ]
  },
  {
   "cell_type": "code",
   "execution_count": 16,
   "metadata": {},
   "outputs": [
    {
     "data": {
      "text/plain": [
       "{'head': {'vars': ['miembros', 'miembrosLabel', 'image']},\n",
       " 'results': {'bindings': [{'miembros': {'type': 'uri',\n",
       "     'value': 'http://www.wikidata.org/entity/Q128121'},\n",
       "    'image': {'type': 'uri',\n",
       "     'value': 'http://commons.wikimedia.org/wiki/Special:FilePath/Rolling%20Stones%2004.jpg'},\n",
       "    'miembrosLabel': {'xml:lang': 'en',\n",
       "     'type': 'literal',\n",
       "     'value': 'Mick Jagger'}},\n",
       "   {'miembros': {'type': 'uri',\n",
       "     'value': 'http://www.wikidata.org/entity/Q189599'},\n",
       "    'image': {'type': 'uri',\n",
       "     'value': 'http://commons.wikimedia.org/wiki/Special:FilePath/Keith%20Richards%202%20Berlinale%202008.jpg'},\n",
       "    'miembrosLabel': {'xml:lang': 'en',\n",
       "     'type': 'literal',\n",
       "     'value': 'Keith Richards'}},\n",
       "   {'miembros': {'type': 'uri',\n",
       "     'value': 'http://www.wikidata.org/entity/Q204943'},\n",
       "    'image': {'type': 'uri',\n",
       "     'value': 'http://commons.wikimedia.org/wiki/Special:FilePath/Brian%20Jones%2C%20Statesboro%2C%20Georgia%2C%20May%204%2C%201965%20%28377872218%29.jpg'},\n",
       "    'miembrosLabel': {'xml:lang': 'en',\n",
       "     'type': 'literal',\n",
       "     'value': 'Brian Jones'}},\n",
       "   {'miembros': {'type': 'uri',\n",
       "     'value': 'http://www.wikidata.org/entity/Q211094'},\n",
       "    'image': {'type': 'uri',\n",
       "     'value': 'http://commons.wikimedia.org/wiki/Special:FilePath/Ronnie%20Wood%20%2855208398%29.jpeg'},\n",
       "    'miembrosLabel': {'xml:lang': 'en',\n",
       "     'type': 'literal',\n",
       "     'value': 'Ronnie Wood'}},\n",
       "   {'miembros': {'type': 'uri',\n",
       "     'value': 'http://www.wikidata.org/entity/Q216051'},\n",
       "    'image': {'type': 'uri',\n",
       "     'value': 'http://commons.wikimedia.org/wiki/Special:FilePath/Charlie%20Watts%20Hannover%2019-07-2006.jpg'},\n",
       "    'miembrosLabel': {'xml:lang': 'en',\n",
       "     'type': 'literal',\n",
       "     'value': 'Charlie Watts'}},\n",
       "   {'miembros': {'type': 'uri',\n",
       "     'value': 'http://www.wikidata.org/entity/Q312559'},\n",
       "    'image': {'type': 'uri',\n",
       "     'value': 'http://commons.wikimedia.org/wiki/Special:FilePath/Bill%20Wyman%202009.jpg'},\n",
       "    'miembrosLabel': {'xml:lang': 'en',\n",
       "     'type': 'literal',\n",
       "     'value': 'Bill Wyman'}},\n",
       "   {'miembros': {'type': 'uri',\n",
       "     'value': 'http://www.wikidata.org/entity/Q312696'},\n",
       "    'image': {'type': 'uri',\n",
       "     'value': 'http://commons.wikimedia.org/wiki/Special:FilePath/Mick%20Taylor%20onstage%20The%20Lucky.jpg'},\n",
       "    'miembrosLabel': {'xml:lang': 'en',\n",
       "     'type': 'literal',\n",
       "     'value': 'Mick Taylor'}}]}}"
      ]
     },
     "execution_count": 16,
     "metadata": {},
     "output_type": "execute_result"
    }
   ],
   "source": [
    "from qwikidata.sparql import return_sparql_query_results\n",
    "\n",
    "sparql_query = \"\"\"\n",
    "SELECT ?miembros ?miembrosLabel ?image\n",
    "WHERE\n",
    "{\n",
    "    wd:Q11036 wdt:P527 ?miembros.\n",
    "    ?miembros wdt:P18 ?image\n",
    "    SERVICE wikibase:label { bd:serviceParam wikibase:language \"en\". }\n",
    "}\n",
    "\"\"\"\n",
    "res = return_sparql_query_results(sparql_query)\n",
    "res"
   ]
  },
  {
   "cell_type": "markdown",
   "metadata": {},
   "source": [
    "<html><head><meta charset=\"utf-8\"></head><body><table><thead><tr><th>miembros</th><th>miembrosLabel</th><th>image</th></tr></thead><tbody><tr><td>http://www.wikidata.org/entity/Q128121</td><td>Mick Jagger</td><td>http://commons.wikimedia.org/wiki/Special:FilePath/Rolling%20Stones%2004.jpg</td></tr><tr><td>http://www.wikidata.org/entity/Q189599</td><td>Keith Richards</td><td>http://commons.wikimedia.org/wiki/Special:FilePath/Keith%20Richards%202%20Berlinale%202008.jpg</td></tr><tr><td>http://www.wikidata.org/entity/Q204943</td><td>Brian Jones</td><td>http://commons.wikimedia.org/wiki/Special:FilePath/Brian%20Jones%2C%20Statesboro%2C%20Georgia%2C%20May%204%2C%201965%20%28377872218%29.jpg</td></tr><tr><td>http://www.wikidata.org/entity/Q211094</td><td>Ronnie Wood</td><td>http://commons.wikimedia.org/wiki/Special:FilePath/Ronnie%20Wood%20%2855208398%29.jpeg</td></tr><tr><td>http://www.wikidata.org/entity/Q216051</td><td>Charlie Watts</td><td>http://commons.wikimedia.org/wiki/Special:FilePath/Charlie%20Watts%20Hannover%2019-07-2006.jpg</td></tr><tr><td>http://www.wikidata.org/entity/Q312559</td><td>Bill Wyman</td><td>http://commons.wikimedia.org/wiki/Special:FilePath/Bill%20Wyman%202009.jpg</td></tr><tr><td>http://www.wikidata.org/entity/Q312696</td><td>Mick Taylor</td><td>http://commons.wikimedia.org/wiki/Special:FilePath/Mick%20Taylor%20onstage%20The%20Lucky.jpg</td></tr></tbody></table></body></html>"
   ]
  },
  {
   "cell_type": "markdown",
   "metadata": {},
   "source": [
    "### Consulta 3\n",
    "\n",
    "Géneros a los que pertenece el grupo ordenados alfabéticamente"
   ]
  },
  {
   "cell_type": "code",
   "execution_count": 21,
   "metadata": {},
   "outputs": [
    {
     "data": {
      "text/plain": [
       "{'head': {'vars': ['genre', 'genreLabel']},\n",
       " 'results': {'bindings': [{'genre': {'type': 'uri',\n",
       "     'value': 'http://www.wikidata.org/entity/Q9759'},\n",
       "    'genreLabel': {'xml:lang': 'en', 'type': 'literal', 'value': 'blues'}},\n",
       "   {'genre': {'type': 'uri',\n",
       "     'value': 'http://www.wikidata.org/entity/Q193355'},\n",
       "    'genreLabel': {'xml:lang': 'en',\n",
       "     'type': 'literal',\n",
       "     'value': 'blues rock'}},\n",
       "   {'genre': {'type': 'uri', 'value': 'http://www.wikidata.org/entity/Q83440'},\n",
       "    'genreLabel': {'xml:lang': 'en',\n",
       "     'type': 'literal',\n",
       "     'value': 'country music'}},\n",
       "   {'genre': {'type': 'uri',\n",
       "     'value': 'http://www.wikidata.org/entity/Q613408'},\n",
       "    'genreLabel': {'xml:lang': 'en',\n",
       "     'type': 'literal',\n",
       "     'value': 'country rock'}},\n",
       "   {'genre': {'type': 'uri', 'value': 'http://www.wikidata.org/entity/Q83270'},\n",
       "    'genreLabel': {'xml:lang': 'en', 'type': 'literal', 'value': 'hard rock'}},\n",
       "   {'genre': {'type': 'uri', 'value': 'http://www.wikidata.org/entity/Q27190'},\n",
       "    'genreLabel': {'xml:lang': 'en', 'type': 'literal', 'value': 'protopunk'}},\n",
       "   {'genre': {'type': 'uri',\n",
       "     'value': 'http://www.wikidata.org/entity/Q206159'},\n",
       "    'genreLabel': {'xml:lang': 'en',\n",
       "     'type': 'literal',\n",
       "     'value': 'psychedelic rock'}},\n",
       "   {'genre': {'type': 'uri', 'value': 'http://www.wikidata.org/entity/Q45981'},\n",
       "    'genreLabel': {'xml:lang': 'en',\n",
       "     'type': 'literal',\n",
       "     'value': 'rhythm and blues'}},\n",
       "   {'genre': {'type': 'uri', 'value': 'http://www.wikidata.org/entity/Q7749'},\n",
       "    'genreLabel': {'xml:lang': 'en',\n",
       "     'type': 'literal',\n",
       "     'value': 'rock and roll'}},\n",
       "   {'genre': {'type': 'uri', 'value': 'http://www.wikidata.org/entity/Q11399'},\n",
       "    'genreLabel': {'xml:lang': 'en',\n",
       "     'type': 'literal',\n",
       "     'value': 'rock music'}}]}}"
      ]
     },
     "execution_count": 21,
     "metadata": {},
     "output_type": "execute_result"
    }
   ],
   "source": [
    "from qwikidata.sparql import return_sparql_query_results\n",
    "\n",
    "sparql_query = \"\"\"\n",
    "SELECT ?genre ?genreLabel\n",
    "WHERE\n",
    "{\n",
    "    wd:Q11036 wdt:P136 ?genre.\n",
    "    SERVICE wikibase:label { bd:serviceParam wikibase:language \"en\". }\n",
    "}\n",
    "ORDER BY ASC (?genreLabel)\n",
    "\"\"\"\n",
    "res = return_sparql_query_results(sparql_query)\n",
    "res"
   ]
  },
  {
   "cell_type": "markdown",
   "metadata": {},
   "source": [
    "<html><head><meta charset=\"utf-8\"></head><body><table><thead><tr><th>genre</th><th>genreLabel</th></tr></thead><tbody><tr><td>http://www.wikidata.org/entity/Q9759</td><td>blues</td></tr><tr><td>http://www.wikidata.org/entity/Q193355</td><td>blues rock</td></tr><tr><td>http://www.wikidata.org/entity/Q83440</td><td>country music</td></tr><tr><td>http://www.wikidata.org/entity/Q613408</td><td>country rock</td></tr><tr><td>http://www.wikidata.org/entity/Q83270</td><td>hard rock</td></tr><tr><td>http://www.wikidata.org/entity/Q27190</td><td>protopunk</td></tr><tr><td>http://www.wikidata.org/entity/Q206159</td><td>psychedelic rock</td></tr><tr><td>http://www.wikidata.org/entity/Q45981</td><td>rhythm and blues</td></tr><tr><td>http://www.wikidata.org/entity/Q7749</td><td>rock and roll</td></tr><tr><td>http://www.wikidata.org/entity/Q11399</td><td>rock music</td></tr></tbody></table></body></html>"
   ]
  },
  {
   "cell_type": "markdown",
   "metadata": {},
   "source": [
    "### Consulta 4\n",
    "\n",
    "Álbumes interpretados por el grupo ordenados alfabéticamente (en el resultado aparecen repetidos pero también tienen identificador repetido y el distinct no funciona para eso)"
   ]
  },
  {
   "cell_type": "code",
   "execution_count": 22,
   "metadata": {},
   "outputs": [
    {
     "data": {
      "text/plain": [
       "{'head': {'vars': ['album', 'albumLabel']},\n",
       " 'results': {'bindings': [{'album': {'type': 'uri',\n",
       "     'value': 'http://www.wikidata.org/entity/Q175070'},\n",
       "    'albumLabel': {'xml:lang': 'en', 'type': 'literal', 'value': '12 X 5'}},\n",
       "   {'album': {'type': 'uri',\n",
       "     'value': 'http://www.wikidata.org/entity/Q389281'},\n",
       "    'albumLabel': {'xml:lang': 'en', 'type': 'literal', 'value': 'Aftermath'}},\n",
       "   {'album': {'type': 'uri',\n",
       "     'value': 'http://www.wikidata.org/entity/Q62579599'},\n",
       "    'albumLabel': {'xml:lang': 'en', 'type': 'literal', 'value': 'Aftermath'}},\n",
       "   {'album': {'type': 'uri',\n",
       "     'value': 'http://www.wikidata.org/entity/Q63107624'},\n",
       "    'albumLabel': {'xml:lang': 'en', 'type': 'literal', 'value': 'Aftermath'}},\n",
       "   {'album': {'type': 'uri',\n",
       "     'value': 'http://www.wikidata.org/entity/Q1129432'},\n",
       "    'albumLabel': {'xml:lang': 'en',\n",
       "     'type': 'literal',\n",
       "     'value': \"December's Children (And Everybody's)\"}},\n",
       "   {'album': {'type': 'uri',\n",
       "     'value': 'http://www.wikidata.org/entity/Q3054276'},\n",
       "    'albumLabel': {'xml:lang': 'en',\n",
       "     'type': 'literal',\n",
       "     'value': \"England's Newest Hit Makers\"}},\n",
       "   {'album': {'type': 'uri',\n",
       "     'value': 'http://www.wikidata.org/entity/Q379339'},\n",
       "    'albumLabel': {'xml:lang': 'en',\n",
       "     'type': 'literal',\n",
       "     'value': 'Let It Bleed'}},\n",
       "   {'album': {'type': 'uri',\n",
       "     'value': 'http://www.wikidata.org/entity/Q580504'},\n",
       "    'albumLabel': {'xml:lang': 'en',\n",
       "     'type': 'literal',\n",
       "     'value': 'Out of Our Heads'}},\n",
       "   {'album': {'type': 'uri',\n",
       "     'value': 'http://www.wikidata.org/entity/Q62579329'},\n",
       "    'albumLabel': {'xml:lang': 'en',\n",
       "     'type': 'literal',\n",
       "     'value': 'Out of Our Heads'}},\n",
       "   {'album': {'type': 'uri',\n",
       "     'value': 'http://www.wikidata.org/entity/Q745850'},\n",
       "    'albumLabel': {'xml:lang': 'en',\n",
       "     'type': 'literal',\n",
       "     'value': 'Sticky Fingers'}},\n",
       "   {'album': {'type': 'uri',\n",
       "     'value': 'http://www.wikidata.org/entity/Q547315'},\n",
       "    'albumLabel': {'xml:lang': 'en',\n",
       "     'type': 'literal',\n",
       "     'value': 'Tattoo You'}},\n",
       "   {'album': {'type': 'uri',\n",
       "     'value': 'http://www.wikidata.org/entity/Q591855'},\n",
       "    'albumLabel': {'xml:lang': 'en',\n",
       "     'type': 'literal',\n",
       "     'value': 'The Rolling Stones'}},\n",
       "   {'album': {'type': 'uri',\n",
       "     'value': 'http://www.wikidata.org/entity/Q930757'},\n",
       "    'albumLabel': {'xml:lang': 'en',\n",
       "     'type': 'literal',\n",
       "     'value': 'The Rolling Stones No. 2'}}]}}"
      ]
     },
     "execution_count": 22,
     "metadata": {},
     "output_type": "execute_result"
    }
   ],
   "source": [
    "from qwikidata.sparql import return_sparql_query_results\n",
    "\n",
    "sparql_query = \"\"\"\n",
    "SELECT DISTINCT ?album ?albumLabel\n",
    "WHERE \n",
    "{\n",
    "    ?album wdt:P31 wd:Q208569. #Titulo instancia (P31) de álbum de estudio (Q208569)\n",
    "    ?album wdt:P175 wd:Q11036. #Album interpretado por (P175) The Rolling Stones (Q11036)\n",
    "    SERVICE wikibase:label { bd:serviceParam wikibase:language \"en\". }\n",
    "}\n",
    "ORDER BY(?albumLabel)\n",
    "\"\"\"\n",
    "res = return_sparql_query_results(sparql_query)\n",
    "res"
   ]
  },
  {
   "cell_type": "markdown",
   "metadata": {},
   "source": [
    "<html><head><meta charset=\"utf-8\"></head><body><table><thead><tr><th>album</th><th>albumLabel</th></tr></thead><tbody><tr><td>http://www.wikidata.org/entity/Q175070</td><td>12 X 5</td></tr><tr><td>http://www.wikidata.org/entity/Q62579599</td><td>Aftermath</td></tr><tr><td>http://www.wikidata.org/entity/Q63107624</td><td>Aftermath</td></tr><tr><td>http://www.wikidata.org/entity/Q389281</td><td>Aftermath</td></tr><tr><td>http://www.wikidata.org/entity/Q1129432</td><td>December's Children (And Everybody's)</td></tr><tr><td>http://www.wikidata.org/entity/Q3054276</td><td>England's Newest Hit Makers</td></tr><tr><td>http://www.wikidata.org/entity/Q379339</td><td>Let It Bleed</td></tr><tr><td>http://www.wikidata.org/entity/Q62579329</td><td>Out of Our Heads</td></tr><tr><td>http://www.wikidata.org/entity/Q580504</td><td>Out of Our Heads</td></tr><tr><td>http://www.wikidata.org/entity/Q745850</td><td>Sticky Fingers</td></tr><tr><td>http://www.wikidata.org/entity/Q547315</td><td>Tattoo You</td></tr><tr><td>http://www.wikidata.org/entity/Q591855</td><td>The Rolling Stones</td></tr><tr><td>http://www.wikidata.org/entity/Q930757</td><td>The Rolling Stones No. 2</td></tr></tbody></table></body></html>"
   ]
  },
  {
   "cell_type": "markdown",
   "metadata": {},
   "source": [
    "### Consulta 5\n",
    "\n",
    "Lista de canciones pertenecientes al álbum \"Aftermath\" ordenadas alfabéticamente (hay que tener ojo, algunas canciones son instancia de \"song\" y otras son instancia de \"single\" y por eso utilizamos VALUES). No muestra todas las canciones del álbum realmente puesto que alguna de ellas en wikidata no detalla a que álbum pertenece."
   ]
  },
  {
   "cell_type": "code",
   "execution_count": 20,
   "metadata": {},
   "outputs": [
    {
     "data": {
      "text/plain": [
       "{'head': {'vars': ['track', 'trackLabel']},\n",
       " 'results': {'bindings': [{'track': {'type': 'uri',\n",
       "     'value': 'http://www.wikidata.org/entity/Q10506995'},\n",
       "    'trackLabel': {'xml:lang': 'en',\n",
       "     'type': 'literal',\n",
       "     'value': \"Goin' Home\"}},\n",
       "   {'track': {'type': 'uri',\n",
       "     'value': 'http://www.wikidata.org/entity/Q28434526'},\n",
       "    'trackLabel': {'xml:lang': 'en',\n",
       "     'type': 'literal',\n",
       "     'value': 'I Am Waiting'}},\n",
       "   {'track': {'type': 'uri',\n",
       "     'value': 'http://www.wikidata.org/entity/Q2553566'},\n",
       "    'trackLabel': {'xml:lang': 'en', 'type': 'literal', 'value': 'Lady Jane'}},\n",
       "   {'track': {'type': 'uri',\n",
       "     'value': 'http://www.wikidata.org/entity/Q1259099'},\n",
       "    'trackLabel': {'xml:lang': 'en',\n",
       "     'type': 'literal',\n",
       "     'value': \"Mother's Little Helper\"}},\n",
       "   {'track': {'type': 'uri',\n",
       "     'value': 'http://www.wikidata.org/entity/Q2432166'},\n",
       "    'trackLabel': {'xml:lang': 'en',\n",
       "     'type': 'literal',\n",
       "     'value': 'Out of Time'}},\n",
       "   {'track': {'type': 'uri',\n",
       "     'value': 'http://www.wikidata.org/entity/Q1046717'},\n",
       "    'trackLabel': {'xml:lang': 'en',\n",
       "     'type': 'literal',\n",
       "     'value': 'Paint It Black'}},\n",
       "   {'track': {'type': 'uri',\n",
       "     'value': 'http://www.wikidata.org/entity/Q3646713'},\n",
       "    'trackLabel': {'xml:lang': 'en',\n",
       "     'type': 'literal',\n",
       "     'value': 'Stupid Girl'}}]}}"
      ]
     },
     "execution_count": 20,
     "metadata": {},
     "output_type": "execute_result"
    }
   ],
   "source": [
    "from qwikidata.sparql import return_sparql_query_results\n",
    "\n",
    "sparql_query = \"\"\"\n",
    "SELECT DISTINCT ?track ?trackLabel\n",
    "WHERE \n",
    "{\n",
    "    VALUES ?canciones {wd:Q134556 wd:Q7366}\n",
    "    ?track wdt:P31 ?canciones. #Titulo instancia (P31) de álbum de estudio (Q208569)\n",
    "    ?track wdt:P361 wd:Q389281. #Album interpretado por (P175) The Rolling Stones (Q11036)\n",
    "    SERVICE wikibase:label { bd:serviceParam wikibase:language \"en\". }\n",
    "}\n",
    "ORDER BY(?trackLabel)\n",
    "\"\"\"\n",
    "res = return_sparql_query_results(sparql_query)\n",
    "res"
   ]
  },
  {
   "cell_type": "markdown",
   "metadata": {},
   "source": [
    "<html><head><meta charset=\"utf-8\"></head><body><table><thead><tr><th>track</th><th>trackLabel</th></tr></thead><tbody><tr><td>http://www.wikidata.org/entity/Q10506995</td><td>Goin' Home</td></tr><tr><td>http://www.wikidata.org/entity/Q28434526</td><td>I Am Waiting</td></tr><tr><td>http://www.wikidata.org/entity/Q2553566</td><td>Lady Jane</td></tr><tr><td>http://www.wikidata.org/entity/Q1259099</td><td>Mother's Little Helper</td></tr><tr><td>http://www.wikidata.org/entity/Q2432166</td><td>Out of Time</td></tr><tr><td>http://www.wikidata.org/entity/Q1046717</td><td>Paint It Black</td></tr><tr><td>http://www.wikidata.org/entity/Q3646713</td><td>Stupid Girl</td></tr></tbody></table></body></html>"
   ]
  },
  {
   "cell_type": "markdown",
   "metadata": {},
   "source": [
    "### Consulta 6\n",
    "\n",
    "Premios conseguidos por el grupo y fecha ordenados cronológicamente por año de la ceremonia."
   ]
  },
  {
   "cell_type": "code",
   "execution_count": 11,
   "metadata": {},
   "outputs": [
    {
     "data": {
      "text/plain": [
       "{'head': {'vars': ['award', 'awardLabel', 'anio']},\n",
       " 'results': {'bindings': [{'award': {'type': 'uri',\n",
       "     'value': 'http://www.wikidata.org/entity/Q935843'},\n",
       "    'awardLabel': {'xml:lang': 'en',\n",
       "     'type': 'literal',\n",
       "     'value': 'Grammy Lifetime Achievement Award'},\n",
       "    'anio': {'datatype': 'http://www.w3.org/2001/XMLSchema#integer',\n",
       "     'type': 'literal',\n",
       "     'value': '1985'}},\n",
       "   {'award': {'type': 'uri',\n",
       "     'value': 'http://www.wikidata.org/entity/Q935843'},\n",
       "    'awardLabel': {'xml:lang': 'en',\n",
       "     'type': 'literal',\n",
       "     'value': 'Grammy Lifetime Achievement Award'},\n",
       "    'anio': {'datatype': 'http://www.w3.org/2001/XMLSchema#integer',\n",
       "     'type': 'literal',\n",
       "     'value': '1986'}},\n",
       "   {'award': {'type': 'uri',\n",
       "     'value': 'http://www.wikidata.org/entity/Q179191'},\n",
       "    'awardLabel': {'xml:lang': 'en',\n",
       "     'type': 'literal',\n",
       "     'value': 'Rock and Roll Hall of Fame'},\n",
       "    'anio': {'datatype': 'http://www.w3.org/2001/XMLSchema#integer',\n",
       "     'type': 'literal',\n",
       "     'value': '1989'}},\n",
       "   {'award': {'type': 'uri',\n",
       "     'value': 'http://www.wikidata.org/entity/Q16963163'},\n",
       "    'awardLabel': {'xml:lang': 'en',\n",
       "     'type': 'literal',\n",
       "     'value': 'Juno Award for International Entertainer of the Year'},\n",
       "    'anio': {'datatype': 'http://www.w3.org/2001/XMLSchema#integer',\n",
       "     'type': 'literal',\n",
       "     'value': '1991'}},\n",
       "   {'award': {'type': 'uri',\n",
       "     'value': 'http://www.wikidata.org/entity/Q821861'},\n",
       "    'awardLabel': {'xml:lang': 'en',\n",
       "     'type': 'literal',\n",
       "     'value': 'Michael Jackson Video Vanguard Award'},\n",
       "    'anio': {'datatype': 'http://www.w3.org/2001/XMLSchema#integer',\n",
       "     'type': 'literal',\n",
       "     'value': '1994'}},\n",
       "   {'award': {'type': 'uri',\n",
       "     'value': 'http://www.wikidata.org/entity/Q691892'},\n",
       "    'awardLabel': {'xml:lang': 'en',\n",
       "     'type': 'literal',\n",
       "     'value': 'Grammy Award for Best Rock Album'},\n",
       "    'anio': {'datatype': 'http://www.w3.org/2001/XMLSchema#integer',\n",
       "     'type': 'literal',\n",
       "     'value': '1994'}},\n",
       "   {'award': {'type': 'uri',\n",
       "     'value': 'http://www.wikidata.org/entity/Q2976730'},\n",
       "    'awardLabel': {'xml:lang': 'en',\n",
       "     'type': 'literal',\n",
       "     'value': 'Grammy Award for Best Music Video'},\n",
       "    'anio': {'datatype': 'http://www.w3.org/2001/XMLSchema#integer',\n",
       "     'type': 'literal',\n",
       "     'value': '1994'}},\n",
       "   {'award': {'type': 'uri',\n",
       "     'value': 'http://www.wikidata.org/entity/Q615682'},\n",
       "    'awardLabel': {'xml:lang': 'en',\n",
       "     'type': 'literal',\n",
       "     'value': 'MTV Video Music Award for Best Cinematography'},\n",
       "    'anio': {'datatype': 'http://www.w3.org/2001/XMLSchema#integer',\n",
       "     'type': 'literal',\n",
       "     'value': '1995'}},\n",
       "   {'award': {'type': 'uri',\n",
       "     'value': 'http://www.wikidata.org/entity/Q372123'},\n",
       "    'awardLabel': {'xml:lang': 'en',\n",
       "     'type': 'literal',\n",
       "     'value': 'MTV Video Music Award for Best Visual Effects'},\n",
       "    'anio': {'datatype': 'http://www.w3.org/2001/XMLSchema#integer',\n",
       "     'type': 'literal',\n",
       "     'value': '1995'}},\n",
       "   {'award': {'type': 'uri', 'value': 'http://www.wikidata.org/entity/Q81180'},\n",
       "    'awardLabel': {'xml:lang': 'en',\n",
       "     'type': 'literal',\n",
       "     'value': 'Grammy Hall of Fame'},\n",
       "    'anio': {'datatype': 'http://www.w3.org/2001/XMLSchema#integer',\n",
       "     'type': 'literal',\n",
       "     'value': '1997'}},\n",
       "   {'award': {'type': 'uri', 'value': 'http://www.wikidata.org/entity/Q81180'},\n",
       "    'awardLabel': {'xml:lang': 'en',\n",
       "     'type': 'literal',\n",
       "     'value': 'Grammy Hall of Fame'},\n",
       "    'anio': {'datatype': 'http://www.w3.org/2001/XMLSchema#integer',\n",
       "     'type': 'literal',\n",
       "     'value': '1998'}},\n",
       "   {'award': {'type': 'uri', 'value': 'http://www.wikidata.org/entity/Q81180'},\n",
       "    'awardLabel': {'xml:lang': 'en',\n",
       "     'type': 'literal',\n",
       "     'value': 'Grammy Hall of Fame'},\n",
       "    'anio': {'datatype': 'http://www.w3.org/2001/XMLSchema#integer',\n",
       "     'type': 'literal',\n",
       "     'value': '1998'}},\n",
       "   {'award': {'type': 'uri', 'value': 'http://www.wikidata.org/entity/Q81180'},\n",
       "    'awardLabel': {'xml:lang': 'en',\n",
       "     'type': 'literal',\n",
       "     'value': 'Grammy Hall of Fame'},\n",
       "    'anio': {'datatype': 'http://www.w3.org/2001/XMLSchema#integer',\n",
       "     'type': 'literal',\n",
       "     'value': '2004'}},\n",
       "   {'award': {'type': 'uri', 'value': 'http://www.wikidata.org/entity/Q81180'},\n",
       "    'awardLabel': {'xml:lang': 'en',\n",
       "     'type': 'literal',\n",
       "     'value': 'Grammy Hall of Fame'},\n",
       "    'anio': {'datatype': 'http://www.w3.org/2001/XMLSchema#integer',\n",
       "     'type': 'literal',\n",
       "     'value': '2011'}},\n",
       "   {'award': {'type': 'uri', 'value': 'http://www.wikidata.org/entity/Q81180'},\n",
       "    'awardLabel': {'xml:lang': 'en',\n",
       "     'type': 'literal',\n",
       "     'value': 'Grammy Hall of Fame'},\n",
       "    'anio': {'datatype': 'http://www.w3.org/2001/XMLSchema#integer',\n",
       "     'type': 'literal',\n",
       "     'value': '2013'}}]}}"
      ]
     },
     "execution_count": 11,
     "metadata": {},
     "output_type": "execute_result"
    }
   ],
   "source": [
    "from qwikidata.sparql import return_sparql_query_results\n",
    "\n",
    "sparql_query = \"\"\"\n",
    "SELECT ?award ?awardLabel (YEAR(?fecha) as ?anio)\n",
    "WHERE \n",
    "{\n",
    "  wd:Q11036 p:P166 ?nodo.\n",
    "  ?nodo ps:P166 ?award.\n",
    "  ?nodo pq:P585 ?fecha.\n",
    "  SERVICE wikibase:label { bd:serviceParam wikibase:language \"en\". }\n",
    "}\n",
    "ORDER BY ASC (?fecha)\n",
    "\"\"\"\n",
    "res = return_sparql_query_results(sparql_query)\n",
    "res"
   ]
  },
  {
   "cell_type": "markdown",
   "metadata": {},
   "source": [
    "<html><head><meta charset=\"utf-8\"></head><body><table><thead><tr><th>award</th><th>awardLabel</th><th>anio</th></tr></thead><tbody><tr><td>http://www.wikidata.org/entity/Q935843</td><td>Grammy Lifetime Achievement Award</td><td>1985</td></tr><tr><td>http://www.wikidata.org/entity/Q935843</td><td>Grammy Lifetime Achievement Award</td><td>1986</td></tr><tr><td>http://www.wikidata.org/entity/Q179191</td><td>Rock and Roll Hall of Fame</td><td>1989</td></tr><tr><td>http://www.wikidata.org/entity/Q16963163</td><td>Juno Award for International Entertainer of the Year</td><td>1991</td></tr><tr><td>http://www.wikidata.org/entity/Q821861</td><td>Michael Jackson Video Vanguard Award</td><td>1994</td></tr><tr><td>http://www.wikidata.org/entity/Q691892</td><td>Grammy Award for Best Rock Album</td><td>1994</td></tr><tr><td>http://www.wikidata.org/entity/Q2976730</td><td>Grammy Award for Best Music Video</td><td>1994</td></tr><tr><td>http://www.wikidata.org/entity/Q615682</td><td>MTV Video Music Award for Best Cinematography</td><td>1995</td></tr><tr><td>http://www.wikidata.org/entity/Q372123</td><td>MTV Video Music Award for Best Visual Effects</td><td>1995</td></tr><tr><td>http://www.wikidata.org/entity/Q81180</td><td>Grammy Hall of Fame</td><td>1997</td></tr><tr><td>http://www.wikidata.org/entity/Q81180</td><td>Grammy Hall of Fame</td><td>1998</td></tr><tr><td>http://www.wikidata.org/entity/Q81180</td><td>Grammy Hall of Fame</td><td>1998</td></tr><tr><td>http://www.wikidata.org/entity/Q81180</td><td>Grammy Hall of Fame</td><td>2004</td></tr><tr><td>http://www.wikidata.org/entity/Q81180</td><td>Grammy Hall of Fame</td><td>2011</td></tr><tr><td>http://www.wikidata.org/entity/Q81180</td><td>Grammy Hall of Fame</td><td>2013</td></tr></tbody></table></body></html>"
   ]
  },
  {
   "cell_type": "markdown",
   "metadata": {},
   "source": [
    "### Consulta 7\n",
    "\n",
    "Canciones más populares del grupo, álbum al que pertenecen y año del álbum, ordenados por orden cronológico de publicación del álbum."
   ]
  },
  {
   "cell_type": "code",
   "execution_count": 10,
   "metadata": {},
   "outputs": [
    {
     "data": {
      "text/plain": [
       "{'head': {'vars': ['track', 'trackLabel', 'name', 'nameLabel', 'anio']},\n",
       " 'results': {'bindings': [{'track': {'type': 'uri',\n",
       "     'value': 'http://www.wikidata.org/entity/Q158553'},\n",
       "    'name': {'type': 'uri', 'value': 'http://www.wikidata.org/entity/Q580504'},\n",
       "    'trackLabel': {'xml:lang': 'en',\n",
       "     'type': 'literal',\n",
       "     'value': \"(I Can't Get No) Satisfaction\"},\n",
       "    'nameLabel': {'xml:lang': 'en',\n",
       "     'type': 'literal',\n",
       "     'value': 'Out of Our Heads'},\n",
       "    'anio': {'datatype': 'http://www.w3.org/2001/XMLSchema#integer',\n",
       "     'type': 'literal',\n",
       "     'value': '1965'}},\n",
       "   {'track': {'type': 'uri',\n",
       "     'value': 'http://www.wikidata.org/entity/Q2071495'},\n",
       "    'name': {'type': 'uri',\n",
       "     'value': 'http://www.wikidata.org/entity/Q1129432'},\n",
       "    'trackLabel': {'xml:lang': 'en',\n",
       "     'type': 'literal',\n",
       "     'value': 'Get Off of My Cloud'},\n",
       "    'nameLabel': {'xml:lang': 'en',\n",
       "     'type': 'literal',\n",
       "     'value': \"December's Children (And Everybody's)\"},\n",
       "    'anio': {'datatype': 'http://www.w3.org/2001/XMLSchema#integer',\n",
       "     'type': 'literal',\n",
       "     'value': '1965'}},\n",
       "   {'track': {'type': 'uri',\n",
       "     'value': 'http://www.wikidata.org/entity/Q1046717'},\n",
       "    'name': {'type': 'uri', 'value': 'http://www.wikidata.org/entity/Q389281'},\n",
       "    'trackLabel': {'xml:lang': 'en',\n",
       "     'type': 'literal',\n",
       "     'value': 'Paint It Black'},\n",
       "    'nameLabel': {'xml:lang': 'en', 'type': 'literal', 'value': 'Aftermath'},\n",
       "    'anio': {'datatype': 'http://www.w3.org/2001/XMLSchema#integer',\n",
       "     'type': 'literal',\n",
       "     'value': '1966'}},\n",
       "   {'track': {'type': 'uri',\n",
       "     'value': 'http://www.wikidata.org/entity/Q2418659'},\n",
       "    'name': {'type': 'uri', 'value': 'http://www.wikidata.org/entity/Q27568'},\n",
       "    'trackLabel': {'xml:lang': 'en',\n",
       "     'type': 'literal',\n",
       "     'value': 'Honky Tonk Women'},\n",
       "    'nameLabel': {'xml:lang': 'en',\n",
       "     'type': 'literal',\n",
       "     'value': 'Through the Past, Darkly (Big Hits Vol. 2)'},\n",
       "    'anio': {'datatype': 'http://www.w3.org/2001/XMLSchema#integer',\n",
       "     'type': 'literal',\n",
       "     'value': '1969'}},\n",
       "   {'track': {'type': 'uri',\n",
       "     'value': 'http://www.wikidata.org/entity/Q2312462'},\n",
       "    'name': {'type': 'uri', 'value': 'http://www.wikidata.org/entity/Q945740'},\n",
       "    'trackLabel': {'xml:lang': 'en', 'type': 'literal', 'value': 'Miss You'},\n",
       "    'nameLabel': {'xml:lang': 'en', 'type': 'literal', 'value': 'Some Girls'},\n",
       "    'anio': {'datatype': 'http://www.w3.org/2001/XMLSchema#integer',\n",
       "     'type': 'literal',\n",
       "     'value': '1978'}},\n",
       "   {'track': {'type': 'uri',\n",
       "     'value': 'http://www.wikidata.org/entity/Q1477141'},\n",
       "    'name': {'type': 'uri',\n",
       "     'value': 'http://www.wikidata.org/entity/Q3622215'},\n",
       "    'trackLabel': {'xml:lang': 'en',\n",
       "     'type': 'literal',\n",
       "     'value': \"Jumpin' Jack Flash\"},\n",
       "    'nameLabel': {'xml:lang': 'en', 'type': 'literal', 'value': 'Aretha'},\n",
       "    'anio': {'datatype': 'http://www.w3.org/2001/XMLSchema#integer',\n",
       "     'type': 'literal',\n",
       "     'value': '1986'}}]}}"
      ]
     },
     "execution_count": 10,
     "metadata": {},
     "output_type": "execute_result"
    }
   ],
   "source": [
    "from qwikidata.sparql import return_sparql_query_results\n",
    "\n",
    "sparql_query = \"\"\"\n",
    "SELECT ?track ?trackLabel ?name ?nameLabel (YEAR(?fecha) as ?anio)\n",
    "WHERE \n",
    "{\n",
    "  wd:Q11036 p:P800 ?nodo.\n",
    "  ?nodo ps:P800 ?track.\n",
    "  ?track p:P361 ?album.\n",
    "  ?album ps:P361 ?name.\n",
    "  ?name wdt:P577 ?fecha.\n",
    "  SERVICE wikibase:label { bd:serviceParam wikibase:language \"en\". }\n",
    "}\n",
    "ORDER BY ASC (?fecha)\n",
    "\"\"\"\n",
    "res = return_sparql_query_results(sparql_query)\n",
    "res"
   ]
  },
  {
   "cell_type": "markdown",
   "metadata": {},
   "source": [
    "<html><head><meta charset=\"utf-8\"></head><body><table><thead><tr><th>track</th><th>trackLabel</th><th>name</th><th>nameLabel</th><th>anio</th></tr></thead><tbody><tr><td>http://www.wikidata.org/entity/Q158553</td><td>(I Can't Get No) Satisfaction</td><td>http://www.wikidata.org/entity/Q580504</td><td>Out of Our Heads</td><td>1965</td></tr><tr><td>http://www.wikidata.org/entity/Q2071495</td><td>Get Off of My Cloud</td><td>http://www.wikidata.org/entity/Q1129432</td><td>December's Children (And Everybody's)</td><td>1965</td></tr><tr><td>http://www.wikidata.org/entity/Q1046717</td><td>Paint It Black</td><td>http://www.wikidata.org/entity/Q389281</td><td>Aftermath</td><td>1966</td></tr><tr><td>http://www.wikidata.org/entity/Q2418659</td><td>Honky Tonk Women</td><td>http://www.wikidata.org/entity/Q27568</td><td>Through the Past, Darkly (Big Hits Vol. 2)</td><td>1969</td></tr><tr><td>http://www.wikidata.org/entity/Q2312462</td><td>Miss You</td><td>http://www.wikidata.org/entity/Q945740</td><td>Some Girls</td><td>1978</td></tr><tr><td>http://www.wikidata.org/entity/Q1477141</td><td>Jumpin' Jack Flash</td><td>http://www.wikidata.org/entity/Q3622215</td><td>Aretha</td><td>1986</td></tr></tbody></table></body></html>"
   ]
  }
 ],
 "metadata": {
  "colab": {
   "name": "Práctica3_solucion.ipynb",
   "provenance": []
  },
  "kernelspec": {
   "display_name": "Python 3",
   "language": "python",
   "name": "python3"
  },
  "language_info": {
   "codemirror_mode": {
    "name": "ipython",
    "version": 3
   },
   "file_extension": ".py",
   "mimetype": "text/x-python",
   "name": "python",
   "nbconvert_exporter": "python",
   "pygments_lexer": "ipython3",
   "version": "3.8.3"
  }
 },
 "nbformat": 4,
 "nbformat_minor": 1
}
