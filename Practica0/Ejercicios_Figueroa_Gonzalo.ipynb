{
 "cells": [
  {
   "cell_type": "markdown",
   "metadata": {},
   "source": [
    "## Resuelve los siguientes ejercicios en este archivo y entregalo en el campus al final de la clase."
   ]
  },
  {
   "cell_type": "markdown",
   "metadata": {},
   "source": [
    "**_Ejercicio 1_**. Escribe un programa que calcule el volumen de un cono a partir del radio de la base y su altura. Usa la siguiente fórmula:\n",
    "volumen = pi * radio * radio * altura / 3\n",
    "Solicita los valores de radio y altura al usuario.  El valor aproximado de pi es 3.14159.\n",
    "\n"
   ]
  },
  {
   "cell_type": "code",
   "execution_count": 1,
   "metadata": {},
   "outputs": [
    {
     "name": "stdout",
     "output_type": "stream",
     "text": [
      "Introduce el radio del cono: 3\n",
      "Introduce la altura del cono: 4\n",
      "37.699079999999995\n"
     ]
    }
   ],
   "source": [
    "# Escribe aquí la solución del ejercicio 1.\n",
    "\n",
    "def calculaVolumen(radio, altura):\n",
    "    volumen = pi * radio * radio * altura / 3\n",
    "    return volumen\n",
    "    \n",
    "\n",
    "pi = 3.14159    \n",
    "radio = float(input(\"Introduce el radio del cono: \"))\n",
    "altura = float(input(\"Introduce la altura del cono: \"))\n",
    "\n",
    "print(calculaVolumen(radio, altura))"
   ]
  },
  {
   "cell_type": "markdown",
   "metadata": {},
   "source": [
    "**_Ejercicio 2_**.  Escribe un programa que clasifique los elementos de una lista en positivos y negativos. Los elementos positivos deben añadirse a una lista y los negativos a otra. Si la lista original contiene ceros, se deben ignorar."
   ]
  },
  {
   "cell_type": "code",
   "execution_count": 2,
   "metadata": {},
   "outputs": [
    {
     "name": "stdout",
     "output_type": "stream",
     "text": [
      "[7, 6, 234]\n",
      "[-9, -4, -7]\n"
     ]
    }
   ],
   "source": [
    "# Escribe aquí la solución del ejercicio 2.\n",
    "#Ejemplo: \n",
    "#lista_original = [7, 6, -9, 234, -4, 0, -7]\n",
    "#Positivos: [7, 6, 234]\n",
    "#Negativos: [-9, -4, -7]\n",
    "\n",
    "def clasifica(lista_original):\n",
    "    positivos = []\n",
    "    negativos = []\n",
    "    \n",
    "    for num in lista_original:\n",
    "        if num > 0:\n",
    "            positivos.append(num)\n",
    "        elif num < 0:\n",
    "            negativos.append(num)\n",
    "            \n",
    "    print(positivos)\n",
    "    print(negativos)\n",
    "    \n",
    "lista_original = [7, 6, -9, 234, -4, 0, -7]\n",
    "clasifica(lista_original)"
   ]
  },
  {
   "cell_type": "markdown",
   "metadata": {},
   "source": [
    "**_Ejercicio 3_**.  Escribir una función cuadrados(l) que recibiendo una secuencia l de números, devuelve la lista de los cuadrados de esos números, en el mismo orden. Por ejemplo:\n",
    "\tcuadrados([4,1,5.2,3,8])\n",
    "\t[16, 1, 27.040000000000003, 9, 64]\n",
    "\tHacer dos versiones: una usando un bucle explícito, y la otra mediante definición de listas por comprensión."
   ]
  },
  {
   "cell_type": "code",
   "execution_count": 3,
   "metadata": {},
   "outputs": [
    {
     "name": "stdout",
     "output_type": "stream",
     "text": [
      "Introduce un número para la secuencia, 0 para finalizar la secuencia: 2\n",
      "Introduce un número para la secuencia, 0 para finalizar la secuencia: 5\n",
      "Introduce un número para la secuencia, 0 para finalizar la secuencia: 6.4\n",
      "Introduce un número para la secuencia, 0 para finalizar la secuencia: 3.1\n",
      "Introduce un número para la secuencia, 0 para finalizar la secuencia: 0\n",
      "Elige el método de cálculo\n",
      "1: bucle explícito, 2: lista por compresión: 2\n",
      "[4.0, 25.0, 40.96000000000001, 9.610000000000001]\n"
     ]
    }
   ],
   "source": [
    "# Escribe aquí la solución del ejercicio 3.\n",
    "# Escribir una función cuadrados(l) que recibiendo una secuencia l de números,\n",
    "# devuelve la lista de los cuadrados de esos números, en el mismo orden.\n",
    "\n",
    "\n",
    "# Por ejemplo:\n",
    "# \n",
    "# >>> cuadrados([4,1,5.2,3,8])\n",
    "# [16, 1, 27.040000000000003, 9, 64]\n",
    "\n",
    "# Hacer dos versiones: una usando un bucle explícito, y la otra mediante\n",
    "# definición de listas por comprensión.\n",
    "# ---------------------------------------------------------------------------\n",
    "\n",
    "\n",
    "def cuadrado1(secuencia):\n",
    "    for num in secuencia:\n",
    "        sol.append(num*num)\n",
    "    print(sol)\n",
    "    \n",
    "def cuadrado2(secuencia):\n",
    "    sol = [num * num for num in secuencia]\n",
    "    print(sol)\n",
    "    \n",
    "secuencia = []\n",
    "sol = []\n",
    "while(1):\n",
    "    num = float(input(\"Introduce un número para la secuencia, 0 para finalizar la secuencia: \"))\n",
    "    if(num != 0):\n",
    "        secuencia.append(num)\n",
    "    else:\n",
    "        break\n",
    "\n",
    "control = True\n",
    "while(control):\n",
    "    print(\"Elige el método de cálculo\")\n",
    "    opcion = int(input(\"1: bucle explícito, 2: lista por compresión: \"))\n",
    "    \n",
    "    if opcion == 1:\n",
    "        cuadrado1(secuencia)\n",
    "        control = False\n",
    "    elif opcion == 2:\n",
    "        cuadrado2(secuencia)\n",
    "        control = False\n",
    "    else:\n",
    "        print(\"Error, número incorrecto\")"
   ]
  },
  {
   "cell_type": "code",
   "execution_count": null,
   "metadata": {},
   "outputs": [],
   "source": []
  }
 ],
 "metadata": {
  "kernelspec": {
   "display_name": "Python 3",
   "language": "python",
   "name": "python3"
  },
  "language_info": {
   "codemirror_mode": {
    "name": "ipython",
    "version": 3
   },
   "file_extension": ".py",
   "mimetype": "text/x-python",
   "name": "python",
   "nbconvert_exporter": "python",
   "pygments_lexer": "ipython3",
   "version": "3.8.3"
  }
 },
 "nbformat": 4,
 "nbformat_minor": 2
}
