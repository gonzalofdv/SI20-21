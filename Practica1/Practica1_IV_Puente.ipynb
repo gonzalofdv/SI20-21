{
 "cells": [
  {
   "cell_type": "markdown",
   "metadata": {},
   "source": [
    "### Grupo 10\n",
    "Miguel Robledo Casal  \n",
    "Gonzalo Figueroa del Val  \n",
    "Guillermo Calvo Suarez  "
   ]
  },
  {
   "cell_type": "markdown",
   "metadata": {},
   "source": [
    "# Problema de cruzar el puente\n",
    "\n",
    "Un grupo de 5 personas quiere cruzar un viejo y estrecho puente. Es una noche cerrada y se necesita llevar una linterna para cruzar. El grupo solo dispone de una linterna, a la que le quedan 5 minutos de batería.\n",
    "\n",
    "Cada persona tarda en cruzar 10, 30, 60, 80 y 120 segundos, respectivamente.\n",
    "\n",
    "El puente solo resiste un máximo de 2 personas cruzando a la vez, y cuando cruzan dos personas juntas, caminan a la velocidad del más lento.\n",
    "\n",
    "No se puede lanzar la linterna de un extremo a otro del puente, así que cada vez que crucen dos personas, alguien tiene que volver a cruzar hacia atrás con la linterna a buscar a los compañeros que falten, y así hasta que hayan cruzado todos."
   ]
  },
  {
   "cell_type": "code",
   "execution_count": 2,
   "metadata": {},
   "outputs": [],
   "source": [
    "# Cargamos el módulo con los algoritmos de búsqueda.\n",
    "import sys\n",
    "sys.path.append('aima-python/')\n",
    "import search\n",
    "from search import *\n",
    "from search import breadth_first_tree_search, depth_first_tree_search, depth_first_graph_search, breadth_first_graph_search"
   ]
  },
  {
   "cell_type": "code",
   "execution_count": 1,
   "metadata": {},
   "outputs": [],
   "source": [
    "   class Problem(object):\n",
    "\n",
    "    \"\"\"The abstract class for a formal problem. You should subclass\n",
    "    this and implement the methods actions and result, and possibly\n",
    "    __init__, goal_test, and path_cost. Then you will create instances\n",
    "    of your subclass and solve them with the various search functions.\"\"\"\n",
    "\n",
    "    def __init__(self, initial, goal=None):\n",
    "        \"\"\"The constructor specifies the initial state, and possibly a goal\n",
    "        state, if there is a unique goal. Your subclass's constructor can add\n",
    "        other arguments.\"\"\"\n",
    "        self.initial = initial\n",
    "        self.goal = goal\n",
    "\n",
    "    def actions(self, state):\n",
    "        \"\"\"Return the actions that can be executed in the given\n",
    "        state. The result would typically be a list, but if there are\n",
    "        many actions, consider yielding them one at a time in an\n",
    "        iterator, rather than building them all at once.\"\"\"\n",
    "        raise NotImplementedError\n",
    "\n",
    "    def result(self, state, action):\n",
    "        \"\"\"Return the state that results from executing the given\n",
    "        action in the given state. The action must be one of\n",
    "        self.actions(state).\"\"\"\n",
    "        raise NotImplementedError\n",
    "\n",
    "    def goal_test(self, state):\n",
    "        \"\"\"Return True if the state is a goal. The default method compares the\n",
    "        state to self.goal or checks for state in self.goal if it is a\n",
    "        list, as specified in the constructor. Override this method if\n",
    "        checking against a single self.goal is not enough.\"\"\"\n",
    "        if isinstance(self.goal, list):\n",
    "            return is_in(state, self.goal)\n",
    "        else:\n",
    "            return state == self.goal\n",
    "\n",
    "    def path_cost(self, c, state1, action, state2):\n",
    "        \"\"\"Return the cost of a solution path that arrives at state2 from\n",
    "        state1 via action, assuming cost c to get up to state1. If the problem\n",
    "        is such that the path doesn't matter, this function will only look at\n",
    "        state2.  If the path does matter, it will consider c and maybe state1\n",
    "        and action. The default method costs 1 for every step in the path.\"\"\"\n",
    "        return c + 1\n",
    "\n",
    "    def value(self, state):\n",
    "        \"\"\"For optimization problems, each state has a value.  Hill-climbing\n",
    "        and related algorithms try to maximize this value.\"\"\"\n",
    "        raise NotImplementedError\n",
    "\n",
    "    def coste_de_aplicar_accion(self, estado, accion):\n",
    "        \"\"\"Hemos incluido está función que devuelve el coste de un único operador (aplicar accion a estado). Por defecto, este\n",
    "        coste es 1. Reimplementar si el problema define otro coste \"\"\" \n",
    "        return 1"
   ]
  },
  {
   "cell_type": "markdown",
   "metadata": {},
   "source": [
    "## PRUEBAS\n",
    "\n",
    "Se han realizado definido 3 heurísticas diferentes y se han realizado pruebas con diferentes heurísticas, algoritmos y configuraciones del problema (más personas, diferente tiempo de bateria, etc.)\n",
    "\n",
    "Todas esas pruebas se irán detallando a lo largo del notebook."
   ]
  },
  {
   "cell_type": "markdown",
   "metadata": {},
   "source": [
    "##  Planteamiento del problema (clase problema, estados...)\n",
    "\n",
    "En primer lugar contamos con un diccionario \"Personas\" donde a cada persona se le asigna el tiempo que tarda en cruzar el puente. Esta variable será fija y no forma parte del estado.\n",
    "\n",
    "El estado lo formamos con 3 tuplas, una primera con la posicion de la linterna y el tiempo de batería restante en segundos, una segunda con una lista de las personas que se encuentran a la izquierda del puente, y una última tupla con las personas que se encuentran a la derecha del puente\n",
    "\n",
    "### Acciones\n",
    "        \n",
    "Para generar las opciones posibles con un estado, contamos con que si el movimiento se produce desde la izquierda del puente, siempre cruzarán 2 personas (acción \"mover\") y si se produce desde la derecha, siempre será 1 persona la cruce (accion \"volver\").\n",
    "\n",
    "Con esto, una acción se compone del tipo de movimiento, y la personas o personas que se desplazan.\n",
    "\n",
    "### Resultados\n",
    "        \n",
    "Al realizar una accion, comprobamos el tipo de movimiento (mover o volver) y cambiamos a la persona o personas de la lista en la que estaban (izquierda o derecha del puente) a la lista contraria. Además, cambiamos de posición a la linterna y restamos el tiempo consumido y devolvemos el estado resultante.\n",
    "\n",
    "### Heurística\n",
    "\n",
    "Hemos realizado pruebas con 3 heurísticas diferentes.\n",
    "\n",
    "##### Heurística 1:\n",
    "\n",
    "La primera heurística que realizamos devuelve valores que tienen que ver con la longitud del vector de personas que se encuentran a la izquierda del puente, siendo longitud*2-1 si la linterna se encuentra a la izquierda o longitud*2 si la linterna se encuentra a la derecha\n",
    "\n",
    "##### Heurística 2:\n",
    "\n",
    "Esta heurística recorre el vector ordenado de personas disponibles en el lado izquierdo del puente y lo recorre cogiendo personas en parejas, sumando al valor a devolver el tiempo del que más tarda de la pareja.\n",
    "\n",
    "##### Heurística 3:\n",
    "\n",
    "Esta última heurística, devuelve la suma de los n/2 personas del vector de longitud n que más tardan en cruzar el puente. "
   ]
  },
  {
   "cell_type": "code",
   "execution_count": 4,
   "metadata": {},
   "outputs": [],
   "source": [
    "Personas = {1:10, 2:30, 3:60, 4:80, 5:120}\n",
    "\n",
    "estadoInicial = ((\"Izq\", 300),\n",
    "                 (1, 2, 3, 4, 5),\n",
    "                 ())\n",
    "\n",
    "otroEstado = ((\"Der\", 270),\n",
    "                 (3, 4, 5),\n",
    "                 (1, 2))\n",
    "\n",
    "class ProblemaLinterna(Problem):\n",
    "    def __init__(self, initial, goal=None):\n",
    "        Problem.__init__(self, initial, goal)\n",
    "        \n",
    "    def actions(self, s):\n",
    "\n",
    "        linterna, ladoIzq, ladoDer = s\n",
    "        acciones = []\n",
    "\n",
    "        if linterna[0] == \"Izq\":\n",
    "            for x in ladoIzq:\n",
    "                for y in ladoIzq:\n",
    "                    if x != y and linterna[1] >= max([Personas[x], Personas[y]]):\n",
    "                        acciones.append((\"Mover\", (x, y)))\n",
    "\n",
    "        else:\n",
    "            for x in ladoDer:\n",
    "                if linterna[1] >= Personas[x]:\n",
    "                    acciones.append((\"Volver\", x))\n",
    "\n",
    "        return acciones\n",
    "        \n",
    "    def result(self, s, a):\n",
    "        linterna, ladoIzq, ladoDer = s\n",
    "        listaIzq = list(ladoIzq)\n",
    "        listaDer = list(ladoDer)\n",
    "        sitio, duracion = linterna\n",
    "        \n",
    "        if a[0] == \"Mover\":\n",
    "            x, y = a[1]\n",
    "            listaIzq.remove(a[1][0])\n",
    "            listaIzq.remove(a[1][1])\n",
    "            listaDer.append(a[1][0])\n",
    "            listaDer.append(a[1][1])\n",
    "            sitio = \"Der\"\n",
    "            duracion -= max([Personas[x], Personas[y]])\n",
    "        else:\n",
    "            listaIzq.append(a[1])\n",
    "            listaDer.remove(a[1])\n",
    "            sitio = \"Izq\"\n",
    "            duracion -= Personas[a[1]]\n",
    "        \n",
    "        return(sitio, duracion), tuple(listaIzq), tuple(listaDer)\n",
    "        \n",
    "    def goal_test(self, s):\n",
    "        return len(s[1]) == 0 and len(s[2]) == 5\n",
    "\n",
    "    def h(self, s):\n",
    "        linterna, a, b = s.state\n",
    "        sincruzar = len(a)\n",
    "        if linterna[0] == 'Izq':\n",
    "            return sincruzar + (sincruzar -1)\n",
    "        else:\n",
    "            if sincruzar == 0:\n",
    "                return 0\n",
    "            else:\n",
    "                return sincruzar *2\n",
    "        \"\"\" HEURISTICA 2\n",
    "        suma = 0\n",
    "        vector = list(s.state[1])\n",
    "        vector.sort(reverse=True)\n",
    "        while len(vector) >= 2:\n",
    "            aux1 = vector.pop(0)\n",
    "            aux2 = vector.pop(0)\n",
    "            suma += max(Personas[aux1], Personas[aux2])\n",
    "        if len(vector) == 1:\n",
    "            suma += Personas[vector[0]]\n",
    "        return suma  \n",
    "        \"\"\"\n",
    "        \n",
    "        \"\"\" HEURISTICA 3\n",
    "        suma = 0\n",
    "        vector = list(s.state[1])\n",
    "        print(vector)\n",
    "        vector.sort()\n",
    "        inicio = len(vector)/2\n",
    "        for i in range(inicio, len(vector)):\n",
    "            suma += Personas[vector[i]]\n",
    "        return suma\n",
    "        \"\"\""
   ]
  },
  {
   "cell_type": "code",
   "execution_count": 9,
   "metadata": {},
   "outputs": [
    {
     "data": {
      "text/plain": [
       "(('Izq', 300), (1, 2, 3, 4, 5), ())"
      ]
     },
     "execution_count": 9,
     "metadata": {},
     "output_type": "execute_result"
    }
   ],
   "source": [
    "pL = ProblemaLinterna(estadoInicial)\n",
    "pL.initial"
   ]
  },
  {
   "cell_type": "code",
   "execution_count": 10,
   "metadata": {},
   "outputs": [
    {
     "data": {
      "text/plain": [
       "[('Mover', (1, 2)),\n",
       " ('Mover', (1, 3)),\n",
       " ('Mover', (1, 4)),\n",
       " ('Mover', (1, 5)),\n",
       " ('Mover', (2, 1)),\n",
       " ('Mover', (2, 3)),\n",
       " ('Mover', (2, 4)),\n",
       " ('Mover', (2, 5)),\n",
       " ('Mover', (3, 1)),\n",
       " ('Mover', (3, 2)),\n",
       " ('Mover', (3, 4)),\n",
       " ('Mover', (3, 5)),\n",
       " ('Mover', (4, 1)),\n",
       " ('Mover', (4, 2)),\n",
       " ('Mover', (4, 3)),\n",
       " ('Mover', (4, 5)),\n",
       " ('Mover', (5, 1)),\n",
       " ('Mover', (5, 2)),\n",
       " ('Mover', (5, 3)),\n",
       " ('Mover', (5, 4))]"
      ]
     },
     "execution_count": 10,
     "metadata": {},
     "output_type": "execute_result"
    }
   ],
   "source": [
    "pL.actions(pL.initial)"
   ]
  },
  {
   "cell_type": "code",
   "execution_count": 7,
   "metadata": {},
   "outputs": [
    {
     "data": {
      "text/plain": [
       "(('Der', 270), (3, 4, 5), (1, 2))"
      ]
     },
     "execution_count": 7,
     "metadata": {},
     "output_type": "execute_result"
    }
   ],
   "source": [
    "pL.result(pL.initial, (\"Mover\", (1,2)))"
   ]
  },
  {
   "cell_type": "markdown",
   "metadata": {},
   "source": [
    "### Pruebas con 5 personas\n",
    "\n",
    "En primer lugar, probamos la configuración del problema compuesto por 5 personas y 5 minutos de tiempo de batería.\n",
    "\n",
    "Como se puede observar a continuación, el algoritmo A* con la primera heurística definida ha encontrado solución en un tiempo muy reducido.\n",
    "\n",
    "También probamos la búsqueda en anchura, que nos ha dado un buen resultado.\n",
    "\n",
    "Con esto sabemos, que el planteamiento del problema es correcto (acciones, resultados de las acciones, etc.) para poder probar otras configuraciones."
   ]
  },
  {
   "cell_type": "code",
   "execution_count": 8,
   "metadata": {},
   "outputs": [
    {
     "name": "stdout",
     "output_type": "stream",
     "text": [
      "Wall time: 18 ms\n"
     ]
    },
    {
     "data": {
      "text/plain": [
       "[('Mover', (1, 3)),\n",
       " ('Volver', 1),\n",
       " ('Mover', (1, 2)),\n",
       " ('Volver', 2),\n",
       " ('Mover', (4, 5)),\n",
       " ('Volver', 1),\n",
       " ('Mover', (1, 2))]"
      ]
     },
     "execution_count": 8,
     "metadata": {},
     "output_type": "execute_result"
    }
   ],
   "source": [
    "%%time\n",
    "\n",
    "astar_search(ProblemaLinterna(estadoInicial)).solution()"
   ]
  },
  {
   "cell_type": "code",
   "execution_count": 11,
   "metadata": {},
   "outputs": [
    {
     "name": "stdout",
     "output_type": "stream",
     "text": [
      "Wall time: 39.9 ms\n"
     ]
    },
    {
     "data": {
      "text/plain": [
       "[('Mover', (1, 2)),\n",
       " ('Volver', 1),\n",
       " ('Mover', (3, 1)),\n",
       " ('Volver', 2),\n",
       " ('Mover', (4, 5)),\n",
       " ('Volver', 1),\n",
       " ('Mover', (2, 1))]"
      ]
     },
     "execution_count": 11,
     "metadata": {},
     "output_type": "execute_result"
    }
   ],
   "source": [
    "%%time\n",
    "\n",
    "breadth_first_tree_search(ProblemaLinterna(estadoInicial)).solution()"
   ]
  },
  {
   "cell_type": "code",
   "execution_count": 12,
   "metadata": {},
   "outputs": [
    {
     "data": {
      "text/plain": [
       "(('Der', 270), (3, 4, 5), (1, 2))"
      ]
     },
     "execution_count": 12,
     "metadata": {},
     "output_type": "execute_result"
    }
   ],
   "source": [
    "pL = ProblemaLinterna(otroEstado)\n",
    "pL.initial"
   ]
  },
  {
   "cell_type": "code",
   "execution_count": 13,
   "metadata": {},
   "outputs": [
    {
     "data": {
      "text/plain": [
       "[('Volver', 1), ('Volver', 2)]"
      ]
     },
     "execution_count": 13,
     "metadata": {},
     "output_type": "execute_result"
    }
   ],
   "source": [
    "pL.actions(pL.initial)"
   ]
  },
  {
   "cell_type": "markdown",
   "metadata": {},
   "source": [
    "### Planteamiento 2 del problema\n",
    "\n",
    "En esta ocasión, configuramos el problema con un tiempo de 25 minutos y 10 personas (el tiempo es más que de sobra) con la segunda heurística"
   ]
  },
  {
   "cell_type": "code",
   "execution_count": 51,
   "metadata": {},
   "outputs": [],
   "source": [
    "Personas = {1:10, 2:20, 3:30, 4:40, 5:50, 6:60, 7:70, 8:80, 9:120, 10:120}\n",
    "\n",
    "estadoInicial = ((\"Izq\", 1500),\n",
    "                 (1, 2, 3, 4, 5, 6, 7, 8, 9, 10),\n",
    "                 ())\n",
    "\n",
    "class ProblemaLinterna2(Problem):\n",
    "    def __init__(self, initial, goal=None):\n",
    "        Problem.__init__(self, initial, goal)\n",
    "        \n",
    "    def actions(self, s):\n",
    "\n",
    "        linterna, ladoIzq, ladoDer = s\n",
    "        acciones = []\n",
    "\n",
    "        if linterna[0] == \"Izq\":\n",
    "            for x in ladoIzq:\n",
    "                for y in ladoIzq:\n",
    "                    if x != y and linterna[1] >= max([Personas[x], Personas[y]]):\n",
    "                        acciones.append((\"Mover\", (x, y)))\n",
    "\n",
    "        else:\n",
    "            for x in ladoDer:\n",
    "                if linterna[1] >= Personas[x]:\n",
    "                    acciones.append((\"Volver\", x))\n",
    "\n",
    "        return acciones\n",
    "        \n",
    "    def result(self, s, a):\n",
    "        linterna, ladoIzq, ladoDer = s\n",
    "        listaIzq = list(ladoIzq)\n",
    "        listaDer = list(ladoDer)\n",
    "        sitio, duracion = linterna\n",
    "        \n",
    "        if a[0] == \"Mover\":\n",
    "            x, y = a[1]\n",
    "            listaIzq.remove(a[1][0])\n",
    "            listaIzq.remove(a[1][1])\n",
    "            listaDer.append(a[1][0])\n",
    "            listaDer.append(a[1][1])\n",
    "            sitio = \"Der\"\n",
    "            duracion -= max([Personas[x], Personas[y]])\n",
    "        else:\n",
    "            listaIzq.append(a[1])\n",
    "            listaDer.remove(a[1])\n",
    "            sitio = \"Izq\"\n",
    "            duracion -= Personas[a[1]]\n",
    "        \n",
    "        return(sitio, duracion), tuple(listaIzq), tuple(listaDer)\n",
    "        \n",
    "    def goal_test(self, s):\n",
    "        return len(s[1]) == 0 and len(s[2]) == 5\n",
    "\n",
    "    def h(self, s):\n",
    "        \"\"\" HEURÍSTICA 1\n",
    "        linterna, a, b = s.state\n",
    "        sincruzar = len(a)\n",
    "        if linterna[0] == 'Izq':\n",
    "            return sincruzar + (sincruzar -1)\n",
    "        else:\n",
    "            if sincruzar == 0:\n",
    "                return 0\n",
    "            else:\n",
    "                return sincruzar *2\n",
    "        \"\"\"\n",
    "        \n",
    "        \"\"\" HEURISTICA 2 \"\"\"\n",
    "        suma = 0\n",
    "        vector = list(s.state[1])\n",
    "        vector.sort(reverse=True)\n",
    "        while len(vector) >= 2:\n",
    "            aux1 = vector.pop(0)\n",
    "            aux2 = vector.pop(0)\n",
    "            suma += max(Personas[aux1], Personas[aux2])\n",
    "        if len(vector) == 1:\n",
    "            suma += Personas[vector[0]]\n",
    "        return suma  \n",
    "        \n",
    "        \"\"\" HEURISTICA 3\n",
    "        suma = 0\n",
    "        vector = list(s.state[1])\n",
    "        print(vector)\n",
    "        vector.sort()\n",
    "        inicio = len(vector)/2\n",
    "        for i in range(inicio, len(vector)):\n",
    "            suma += Personas[vector[i]]\n",
    "        return suma\n",
    "        \"\"\""
   ]
  },
  {
   "cell_type": "code",
   "execution_count": 52,
   "metadata": {},
   "outputs": [
    {
     "data": {
      "text/plain": [
       "(('Izq', 1500), (1, 2, 3, 4, 5, 6, 7, 8, 9, 10), ())"
      ]
     },
     "execution_count": 52,
     "metadata": {},
     "output_type": "execute_result"
    }
   ],
   "source": [
    "pL2 = ProblemaLinterna2(estadoInicial)\n",
    "pL2.initial"
   ]
  },
  {
   "cell_type": "code",
   "execution_count": 53,
   "metadata": {},
   "outputs": [
    {
     "data": {
      "text/plain": [
       "[('Mover', (1, 2)),\n",
       " ('Mover', (1, 3)),\n",
       " ('Mover', (1, 4)),\n",
       " ('Mover', (1, 5)),\n",
       " ('Mover', (1, 6)),\n",
       " ('Mover', (1, 7)),\n",
       " ('Mover', (1, 8)),\n",
       " ('Mover', (1, 9)),\n",
       " ('Mover', (1, 10)),\n",
       " ('Mover', (2, 1)),\n",
       " ('Mover', (2, 3)),\n",
       " ('Mover', (2, 4)),\n",
       " ('Mover', (2, 5)),\n",
       " ('Mover', (2, 6)),\n",
       " ('Mover', (2, 7)),\n",
       " ('Mover', (2, 8)),\n",
       " ('Mover', (2, 9)),\n",
       " ('Mover', (2, 10)),\n",
       " ('Mover', (3, 1)),\n",
       " ('Mover', (3, 2)),\n",
       " ('Mover', (3, 4)),\n",
       " ('Mover', (3, 5)),\n",
       " ('Mover', (3, 6)),\n",
       " ('Mover', (3, 7)),\n",
       " ('Mover', (3, 8)),\n",
       " ('Mover', (3, 9)),\n",
       " ('Mover', (3, 10)),\n",
       " ('Mover', (4, 1)),\n",
       " ('Mover', (4, 2)),\n",
       " ('Mover', (4, 3)),\n",
       " ('Mover', (4, 5)),\n",
       " ('Mover', (4, 6)),\n",
       " ('Mover', (4, 7)),\n",
       " ('Mover', (4, 8)),\n",
       " ('Mover', (4, 9)),\n",
       " ('Mover', (4, 10)),\n",
       " ('Mover', (5, 1)),\n",
       " ('Mover', (5, 2)),\n",
       " ('Mover', (5, 3)),\n",
       " ('Mover', (5, 4)),\n",
       " ('Mover', (5, 6)),\n",
       " ('Mover', (5, 7)),\n",
       " ('Mover', (5, 8)),\n",
       " ('Mover', (5, 9)),\n",
       " ('Mover', (5, 10)),\n",
       " ('Mover', (6, 1)),\n",
       " ('Mover', (6, 2)),\n",
       " ('Mover', (6, 3)),\n",
       " ('Mover', (6, 4)),\n",
       " ('Mover', (6, 5)),\n",
       " ('Mover', (6, 7)),\n",
       " ('Mover', (6, 8)),\n",
       " ('Mover', (6, 9)),\n",
       " ('Mover', (6, 10)),\n",
       " ('Mover', (7, 1)),\n",
       " ('Mover', (7, 2)),\n",
       " ('Mover', (7, 3)),\n",
       " ('Mover', (7, 4)),\n",
       " ('Mover', (7, 5)),\n",
       " ('Mover', (7, 6)),\n",
       " ('Mover', (7, 8)),\n",
       " ('Mover', (7, 9)),\n",
       " ('Mover', (7, 10)),\n",
       " ('Mover', (8, 1)),\n",
       " ('Mover', (8, 2)),\n",
       " ('Mover', (8, 3)),\n",
       " ('Mover', (8, 4)),\n",
       " ('Mover', (8, 5)),\n",
       " ('Mover', (8, 6)),\n",
       " ('Mover', (8, 7)),\n",
       " ('Mover', (8, 9)),\n",
       " ('Mover', (8, 10)),\n",
       " ('Mover', (9, 1)),\n",
       " ('Mover', (9, 2)),\n",
       " ('Mover', (9, 3)),\n",
       " ('Mover', (9, 4)),\n",
       " ('Mover', (9, 5)),\n",
       " ('Mover', (9, 6)),\n",
       " ('Mover', (9, 7)),\n",
       " ('Mover', (9, 8)),\n",
       " ('Mover', (9, 10)),\n",
       " ('Mover', (10, 1)),\n",
       " ('Mover', (10, 2)),\n",
       " ('Mover', (10, 3)),\n",
       " ('Mover', (10, 4)),\n",
       " ('Mover', (10, 5)),\n",
       " ('Mover', (10, 6)),\n",
       " ('Mover', (10, 7)),\n",
       " ('Mover', (10, 8)),\n",
       " ('Mover', (10, 9))]"
      ]
     },
     "execution_count": 53,
     "metadata": {},
     "output_type": "execute_result"
    }
   ],
   "source": [
    "pL2.actions(pL2.initial)"
   ]
  },
  {
   "cell_type": "markdown",
   "metadata": {},
   "source": [
    "### Pruebas de diferentes algoritmos\n",
    "\n",
    "Al haber aumentado el número de personas, aumenta el fáctor de ramificación y la profundidad, lo que hace que el problema sea mucho más complejo.\n",
    "\n",
    "Hemos detenido la ejecución cuando cada una de las siguientes llevaba un tiempo superior a 12 horas (el algoritmo A* ha estado ejecutándose durante 22 horas). Sabemos que el problema tiene solución, puesto que el tiempo es más que de sobra para completar el problema y la solución previa con otra configuración era correcta.\n",
    "\n",
    "Un factor que puede ser concluyente de por qué no termina la ejecución puede deberse a que la heurística no sea correcta o no sea eficiente."
   ]
  },
  {
   "cell_type": "code",
   "execution_count": 54,
   "metadata": {
    "scrolled": true
   },
   "outputs": [
    {
     "ename": "KeyboardInterrupt",
     "evalue": "",
     "output_type": "error",
     "traceback": [
      "\u001b[1;31m---------------------------------------------------------------------------\u001b[0m",
      "\u001b[1;31mKeyboardInterrupt\u001b[0m                         Traceback (most recent call last)",
      "\u001b[1;32m<timed eval>\u001b[0m in \u001b[0;36m<module>\u001b[1;34m\u001b[0m\n",
      "\u001b[1;32m~\\Desktop\\Ejercicios SI\\search.py\u001b[0m in \u001b[0;36mastar_search\u001b[1;34m(problem, h, display)\u001b[0m\n\u001b[0;32m    418\u001b[0m     else in your Problem subclass.\"\"\"\n\u001b[0;32m    419\u001b[0m     \u001b[0mh\u001b[0m \u001b[1;33m=\u001b[0m \u001b[0mmemoize\u001b[0m\u001b[1;33m(\u001b[0m\u001b[0mh\u001b[0m \u001b[1;32mor\u001b[0m \u001b[0mproblem\u001b[0m\u001b[1;33m.\u001b[0m\u001b[0mh\u001b[0m\u001b[1;33m,\u001b[0m \u001b[1;34m'h'\u001b[0m\u001b[1;33m)\u001b[0m\u001b[1;33m\u001b[0m\u001b[1;33m\u001b[0m\u001b[0m\n\u001b[1;32m--> 420\u001b[1;33m     \u001b[1;32mreturn\u001b[0m \u001b[0mbest_first_graph_search\u001b[0m\u001b[1;33m(\u001b[0m\u001b[0mproblem\u001b[0m\u001b[1;33m,\u001b[0m \u001b[1;32mlambda\u001b[0m \u001b[0mn\u001b[0m\u001b[1;33m:\u001b[0m \u001b[0mn\u001b[0m\u001b[1;33m.\u001b[0m\u001b[0mpath_cost\u001b[0m \u001b[1;33m+\u001b[0m \u001b[0mh\u001b[0m\u001b[1;33m(\u001b[0m\u001b[0mn\u001b[0m\u001b[1;33m)\u001b[0m\u001b[1;33m,\u001b[0m \u001b[0mdisplay\u001b[0m\u001b[1;33m)\u001b[0m\u001b[1;33m\u001b[0m\u001b[1;33m\u001b[0m\u001b[0m\n\u001b[0m\u001b[0;32m    421\u001b[0m \u001b[1;33m\u001b[0m\u001b[0m\n\u001b[0;32m    422\u001b[0m \u001b[1;33m\u001b[0m\u001b[0m\n",
      "\u001b[1;32m~\\Desktop\\Ejercicios SI\\search.py\u001b[0m in \u001b[0;36mbest_first_graph_search\u001b[1;34m(problem, f, display)\u001b[0m\n\u001b[0;32m    281\u001b[0m             \u001b[1;32mif\u001b[0m \u001b[0mchild\u001b[0m\u001b[1;33m.\u001b[0m\u001b[0mstate\u001b[0m \u001b[1;32mnot\u001b[0m \u001b[1;32min\u001b[0m \u001b[0mexplored\u001b[0m \u001b[1;32mand\u001b[0m \u001b[0mchild\u001b[0m \u001b[1;32mnot\u001b[0m \u001b[1;32min\u001b[0m \u001b[0mfrontier\u001b[0m\u001b[1;33m:\u001b[0m\u001b[1;33m\u001b[0m\u001b[1;33m\u001b[0m\u001b[0m\n\u001b[0;32m    282\u001b[0m                 \u001b[0mfrontier\u001b[0m\u001b[1;33m.\u001b[0m\u001b[0mappend\u001b[0m\u001b[1;33m(\u001b[0m\u001b[0mchild\u001b[0m\u001b[1;33m)\u001b[0m\u001b[1;33m\u001b[0m\u001b[1;33m\u001b[0m\u001b[0m\n\u001b[1;32m--> 283\u001b[1;33m             \u001b[1;32melif\u001b[0m \u001b[0mchild\u001b[0m \u001b[1;32min\u001b[0m \u001b[0mfrontier\u001b[0m\u001b[1;33m:\u001b[0m\u001b[1;33m\u001b[0m\u001b[1;33m\u001b[0m\u001b[0m\n\u001b[0m\u001b[0;32m    284\u001b[0m                 \u001b[1;32mif\u001b[0m \u001b[0mf\u001b[0m\u001b[1;33m(\u001b[0m\u001b[0mchild\u001b[0m\u001b[1;33m)\u001b[0m \u001b[1;33m<\u001b[0m \u001b[0mfrontier\u001b[0m\u001b[1;33m[\u001b[0m\u001b[0mchild\u001b[0m\u001b[1;33m]\u001b[0m\u001b[1;33m:\u001b[0m\u001b[1;33m\u001b[0m\u001b[1;33m\u001b[0m\u001b[0m\n\u001b[0;32m    285\u001b[0m                     \u001b[1;32mdel\u001b[0m \u001b[0mfrontier\u001b[0m\u001b[1;33m[\u001b[0m\u001b[0mchild\u001b[0m\u001b[1;33m]\u001b[0m\u001b[1;33m\u001b[0m\u001b[1;33m\u001b[0m\u001b[0m\n",
      "\u001b[1;32m~\\Desktop\\Ejercicios SI\\utils.py\u001b[0m in \u001b[0;36m__contains__\u001b[1;34m(self, key)\u001b[0m\n\u001b[0;32m    759\u001b[0m     \u001b[1;32mdef\u001b[0m \u001b[0m__contains__\u001b[0m\u001b[1;33m(\u001b[0m\u001b[0mself\u001b[0m\u001b[1;33m,\u001b[0m \u001b[0mkey\u001b[0m\u001b[1;33m)\u001b[0m\u001b[1;33m:\u001b[0m\u001b[1;33m\u001b[0m\u001b[1;33m\u001b[0m\u001b[0m\n\u001b[0;32m    760\u001b[0m         \u001b[1;34m\"\"\"Return True if the key is in PriorityQueue.\"\"\"\u001b[0m\u001b[1;33m\u001b[0m\u001b[1;33m\u001b[0m\u001b[0m\n\u001b[1;32m--> 761\u001b[1;33m         \u001b[1;32mreturn\u001b[0m \u001b[0many\u001b[0m\u001b[1;33m(\u001b[0m\u001b[1;33m[\u001b[0m\u001b[0mitem\u001b[0m \u001b[1;33m==\u001b[0m \u001b[0mkey\u001b[0m \u001b[1;32mfor\u001b[0m \u001b[0m_\u001b[0m\u001b[1;33m,\u001b[0m \u001b[0mitem\u001b[0m \u001b[1;32min\u001b[0m \u001b[0mself\u001b[0m\u001b[1;33m.\u001b[0m\u001b[0mheap\u001b[0m\u001b[1;33m]\u001b[0m\u001b[1;33m)\u001b[0m\u001b[1;33m\u001b[0m\u001b[1;33m\u001b[0m\u001b[0m\n\u001b[0m\u001b[0;32m    762\u001b[0m \u001b[1;33m\u001b[0m\u001b[0m\n\u001b[0;32m    763\u001b[0m     \u001b[1;32mdef\u001b[0m \u001b[0m__getitem__\u001b[0m\u001b[1;33m(\u001b[0m\u001b[0mself\u001b[0m\u001b[1;33m,\u001b[0m \u001b[0mkey\u001b[0m\u001b[1;33m)\u001b[0m\u001b[1;33m:\u001b[0m\u001b[1;33m\u001b[0m\u001b[1;33m\u001b[0m\u001b[0m\n",
      "\u001b[1;32m~\\Desktop\\Ejercicios SI\\utils.py\u001b[0m in \u001b[0;36m<listcomp>\u001b[1;34m(.0)\u001b[0m\n\u001b[0;32m    759\u001b[0m     \u001b[1;32mdef\u001b[0m \u001b[0m__contains__\u001b[0m\u001b[1;33m(\u001b[0m\u001b[0mself\u001b[0m\u001b[1;33m,\u001b[0m \u001b[0mkey\u001b[0m\u001b[1;33m)\u001b[0m\u001b[1;33m:\u001b[0m\u001b[1;33m\u001b[0m\u001b[1;33m\u001b[0m\u001b[0m\n\u001b[0;32m    760\u001b[0m         \u001b[1;34m\"\"\"Return True if the key is in PriorityQueue.\"\"\"\u001b[0m\u001b[1;33m\u001b[0m\u001b[1;33m\u001b[0m\u001b[0m\n\u001b[1;32m--> 761\u001b[1;33m         \u001b[1;32mreturn\u001b[0m \u001b[0many\u001b[0m\u001b[1;33m(\u001b[0m\u001b[1;33m[\u001b[0m\u001b[0mitem\u001b[0m \u001b[1;33m==\u001b[0m \u001b[0mkey\u001b[0m \u001b[1;32mfor\u001b[0m \u001b[0m_\u001b[0m\u001b[1;33m,\u001b[0m \u001b[0mitem\u001b[0m \u001b[1;32min\u001b[0m \u001b[0mself\u001b[0m\u001b[1;33m.\u001b[0m\u001b[0mheap\u001b[0m\u001b[1;33m]\u001b[0m\u001b[1;33m)\u001b[0m\u001b[1;33m\u001b[0m\u001b[1;33m\u001b[0m\u001b[0m\n\u001b[0m\u001b[0;32m    762\u001b[0m \u001b[1;33m\u001b[0m\u001b[0m\n\u001b[0;32m    763\u001b[0m     \u001b[1;32mdef\u001b[0m \u001b[0m__getitem__\u001b[0m\u001b[1;33m(\u001b[0m\u001b[0mself\u001b[0m\u001b[1;33m,\u001b[0m \u001b[0mkey\u001b[0m\u001b[1;33m)\u001b[0m\u001b[1;33m:\u001b[0m\u001b[1;33m\u001b[0m\u001b[1;33m\u001b[0m\u001b[0m\n",
      "\u001b[1;31mKeyboardInterrupt\u001b[0m: "
     ]
    }
   ],
   "source": [
    "%%time\n",
    "\n",
    "astar_search(ProblemaLinterna2(estadoInicial)).solution()"
   ]
  },
  {
   "cell_type": "code",
   "execution_count": 12,
   "metadata": {
    "scrolled": true
   },
   "outputs": [
    {
     "ename": "KeyboardInterrupt",
     "evalue": "",
     "output_type": "error",
     "traceback": [
      "\u001b[1;31m---------------------------------------------------------------------------\u001b[0m",
      "\u001b[1;31mKeyboardInterrupt\u001b[0m                         Traceback (most recent call last)",
      "\u001b[1;32m<ipython-input-12-a3d27f482b14>\u001b[0m in \u001b[0;36m<module>\u001b[1;34m\u001b[0m\n\u001b[1;32m----> 1\u001b[1;33m \u001b[0mbreadth_first_tree_search\u001b[0m\u001b[1;33m(\u001b[0m\u001b[0mProblemaLinterna2\u001b[0m\u001b[1;33m(\u001b[0m\u001b[0mestadoInicial\u001b[0m\u001b[1;33m)\u001b[0m\u001b[1;33m)\u001b[0m\u001b[1;33m.\u001b[0m\u001b[0msolution\u001b[0m\u001b[1;33m(\u001b[0m\u001b[1;33m)\u001b[0m\u001b[1;33m\u001b[0m\u001b[1;33m\u001b[0m\u001b[0m\n\u001b[0m",
      "\u001b[1;32m~\\Desktop\\Ejercicios SI\\search.py\u001b[0m in \u001b[0;36mbreadth_first_tree_search\u001b[1;34m(problem)\u001b[0m\n\u001b[0;32m    191\u001b[0m         \u001b[1;32mif\u001b[0m \u001b[0mproblem\u001b[0m\u001b[1;33m.\u001b[0m\u001b[0mgoal_test\u001b[0m\u001b[1;33m(\u001b[0m\u001b[0mnode\u001b[0m\u001b[1;33m.\u001b[0m\u001b[0mstate\u001b[0m\u001b[1;33m)\u001b[0m\u001b[1;33m:\u001b[0m\u001b[1;33m\u001b[0m\u001b[1;33m\u001b[0m\u001b[0m\n\u001b[0;32m    192\u001b[0m             \u001b[1;32mreturn\u001b[0m \u001b[0mnode\u001b[0m\u001b[1;33m\u001b[0m\u001b[1;33m\u001b[0m\u001b[0m\n\u001b[1;32m--> 193\u001b[1;33m         \u001b[0mfrontier\u001b[0m\u001b[1;33m.\u001b[0m\u001b[0mextend\u001b[0m\u001b[1;33m(\u001b[0m\u001b[0mnode\u001b[0m\u001b[1;33m.\u001b[0m\u001b[0mexpand\u001b[0m\u001b[1;33m(\u001b[0m\u001b[0mproblem\u001b[0m\u001b[1;33m)\u001b[0m\u001b[1;33m)\u001b[0m\u001b[1;33m\u001b[0m\u001b[1;33m\u001b[0m\u001b[0m\n\u001b[0m\u001b[0;32m    194\u001b[0m     \u001b[1;32mreturn\u001b[0m \u001b[1;32mNone\u001b[0m\u001b[1;33m\u001b[0m\u001b[1;33m\u001b[0m\u001b[0m\n\u001b[0;32m    195\u001b[0m \u001b[1;33m\u001b[0m\u001b[0m\n",
      "\u001b[1;32m~\\Desktop\\Ejercicios SI\\search.py\u001b[0m in \u001b[0;36mexpand\u001b[1;34m(self, problem)\u001b[0m\n\u001b[0;32m     95\u001b[0m         \u001b[1;34m\"\"\"List the nodes reachable in one step from this node.\"\"\"\u001b[0m\u001b[1;33m\u001b[0m\u001b[1;33m\u001b[0m\u001b[0m\n\u001b[0;32m     96\u001b[0m         return [self.child_node(problem, action)\n\u001b[1;32m---> 97\u001b[1;33m                 for action in problem.actions(self.state)]\n\u001b[0m\u001b[0;32m     98\u001b[0m \u001b[1;33m\u001b[0m\u001b[0m\n\u001b[0;32m     99\u001b[0m     \u001b[1;32mdef\u001b[0m \u001b[0mchild_node\u001b[0m\u001b[1;33m(\u001b[0m\u001b[0mself\u001b[0m\u001b[1;33m,\u001b[0m \u001b[0mproblem\u001b[0m\u001b[1;33m,\u001b[0m \u001b[0maction\u001b[0m\u001b[1;33m)\u001b[0m\u001b[1;33m:\u001b[0m\u001b[1;33m\u001b[0m\u001b[1;33m\u001b[0m\u001b[0m\n",
      "\u001b[1;32m<ipython-input-9-3170d408066c>\u001b[0m in \u001b[0;36mactions\u001b[1;34m(self, s)\u001b[0m\n\u001b[0;32m     23\u001b[0m             \u001b[1;32mfor\u001b[0m \u001b[0mx\u001b[0m \u001b[1;32min\u001b[0m \u001b[0mladoIzq\u001b[0m\u001b[1;33m:\u001b[0m\u001b[1;33m\u001b[0m\u001b[1;33m\u001b[0m\u001b[0m\n\u001b[0;32m     24\u001b[0m                 \u001b[1;32mfor\u001b[0m \u001b[0my\u001b[0m \u001b[1;32min\u001b[0m \u001b[0mladoIzq\u001b[0m\u001b[1;33m:\u001b[0m\u001b[1;33m\u001b[0m\u001b[1;33m\u001b[0m\u001b[0m\n\u001b[1;32m---> 25\u001b[1;33m                     \u001b[1;32mif\u001b[0m \u001b[0mx\u001b[0m \u001b[1;33m!=\u001b[0m \u001b[0my\u001b[0m \u001b[1;32mand\u001b[0m \u001b[0mlinterna\u001b[0m\u001b[1;33m[\u001b[0m\u001b[1;36m1\u001b[0m\u001b[1;33m]\u001b[0m \u001b[1;33m>=\u001b[0m \u001b[0mmax\u001b[0m\u001b[1;33m(\u001b[0m\u001b[1;33m[\u001b[0m\u001b[0mPersonas\u001b[0m\u001b[1;33m[\u001b[0m\u001b[0mx\u001b[0m\u001b[1;33m]\u001b[0m\u001b[1;33m,\u001b[0m \u001b[0mPersonas\u001b[0m\u001b[1;33m[\u001b[0m\u001b[0my\u001b[0m\u001b[1;33m]\u001b[0m\u001b[1;33m]\u001b[0m\u001b[1;33m)\u001b[0m\u001b[1;33m:\u001b[0m\u001b[1;33m\u001b[0m\u001b[1;33m\u001b[0m\u001b[0m\n\u001b[0m\u001b[0;32m     26\u001b[0m                         \u001b[0macciones\u001b[0m\u001b[1;33m.\u001b[0m\u001b[0mappend\u001b[0m\u001b[1;33m(\u001b[0m\u001b[1;33m(\u001b[0m\u001b[1;34m\"Mover\"\u001b[0m\u001b[1;33m,\u001b[0m \u001b[1;33m(\u001b[0m\u001b[0mx\u001b[0m\u001b[1;33m,\u001b[0m \u001b[0my\u001b[0m\u001b[1;33m)\u001b[0m\u001b[1;33m)\u001b[0m\u001b[1;33m)\u001b[0m\u001b[1;33m\u001b[0m\u001b[1;33m\u001b[0m\u001b[0m\n\u001b[0;32m     27\u001b[0m \u001b[1;33m\u001b[0m\u001b[0m\n",
      "\u001b[1;31mKeyboardInterrupt\u001b[0m: "
     ]
    }
   ],
   "source": [
    "breadth_first_tree_search(ProblemaLinterna2(estadoInicial)).solution()"
   ]
  },
  {
   "cell_type": "code",
   "execution_count": 7,
   "metadata": {},
   "outputs": [
    {
     "ename": "KeyboardInterrupt",
     "evalue": "",
     "output_type": "error",
     "traceback": [
      "\u001b[1;31m---------------------------------------------------------------------------\u001b[0m",
      "\u001b[1;31mKeyboardInterrupt\u001b[0m                         Traceback (most recent call last)",
      "\u001b[1;32m<ipython-input-7-eba24938e26c>\u001b[0m in \u001b[0;36m<module>\u001b[1;34m\u001b[0m\n\u001b[1;32m----> 1\u001b[1;33m \u001b[0mbreadth_first_graph_search\u001b[0m\u001b[1;33m(\u001b[0m\u001b[0mProblemaLinterna2\u001b[0m\u001b[1;33m(\u001b[0m\u001b[0mestadoInicial\u001b[0m\u001b[1;33m)\u001b[0m\u001b[1;33m)\u001b[0m\u001b[1;33m.\u001b[0m\u001b[0msolution\u001b[0m\u001b[1;33m(\u001b[0m\u001b[1;33m)\u001b[0m\u001b[1;33m\u001b[0m\u001b[1;33m\u001b[0m\u001b[0m\n\u001b[0m",
      "\u001b[1;32m~\\Desktop\\Ejercicios SI\\search.py\u001b[0m in \u001b[0;36mbreadth_first_graph_search\u001b[1;34m(problem)\u001b[0m\n\u001b[0;32m    251\u001b[0m         \u001b[0mexplored\u001b[0m\u001b[1;33m.\u001b[0m\u001b[0madd\u001b[0m\u001b[1;33m(\u001b[0m\u001b[0mnode\u001b[0m\u001b[1;33m.\u001b[0m\u001b[0mstate\u001b[0m\u001b[1;33m)\u001b[0m\u001b[1;33m\u001b[0m\u001b[1;33m\u001b[0m\u001b[0m\n\u001b[0;32m    252\u001b[0m         \u001b[1;32mfor\u001b[0m \u001b[0mchild\u001b[0m \u001b[1;32min\u001b[0m \u001b[0mnode\u001b[0m\u001b[1;33m.\u001b[0m\u001b[0mexpand\u001b[0m\u001b[1;33m(\u001b[0m\u001b[0mproblem\u001b[0m\u001b[1;33m)\u001b[0m\u001b[1;33m:\u001b[0m\u001b[1;33m\u001b[0m\u001b[1;33m\u001b[0m\u001b[0m\n\u001b[1;32m--> 253\u001b[1;33m             \u001b[1;32mif\u001b[0m \u001b[0mchild\u001b[0m\u001b[1;33m.\u001b[0m\u001b[0mstate\u001b[0m \u001b[1;32mnot\u001b[0m \u001b[1;32min\u001b[0m \u001b[0mexplored\u001b[0m \u001b[1;32mand\u001b[0m \u001b[0mchild\u001b[0m \u001b[1;32mnot\u001b[0m \u001b[1;32min\u001b[0m \u001b[0mfrontier\u001b[0m\u001b[1;33m:\u001b[0m\u001b[1;33m\u001b[0m\u001b[1;33m\u001b[0m\u001b[0m\n\u001b[0m\u001b[0;32m    254\u001b[0m                 \u001b[1;32mif\u001b[0m \u001b[0mproblem\u001b[0m\u001b[1;33m.\u001b[0m\u001b[0mgoal_test\u001b[0m\u001b[1;33m(\u001b[0m\u001b[0mchild\u001b[0m\u001b[1;33m.\u001b[0m\u001b[0mstate\u001b[0m\u001b[1;33m)\u001b[0m\u001b[1;33m:\u001b[0m\u001b[1;33m\u001b[0m\u001b[1;33m\u001b[0m\u001b[0m\n\u001b[0;32m    255\u001b[0m                     \u001b[1;32mreturn\u001b[0m \u001b[0mchild\u001b[0m\u001b[1;33m\u001b[0m\u001b[1;33m\u001b[0m\u001b[0m\n",
      "\u001b[1;32m~\\Desktop\\Ejercicios SI\\search.py\u001b[0m in \u001b[0;36m__eq__\u001b[1;34m(self, other)\u001b[0m\n\u001b[0;32m    121\u001b[0m \u001b[1;33m\u001b[0m\u001b[0m\n\u001b[0;32m    122\u001b[0m     \u001b[1;32mdef\u001b[0m \u001b[0m__eq__\u001b[0m\u001b[1;33m(\u001b[0m\u001b[0mself\u001b[0m\u001b[1;33m,\u001b[0m \u001b[0mother\u001b[0m\u001b[1;33m)\u001b[0m\u001b[1;33m:\u001b[0m\u001b[1;33m\u001b[0m\u001b[1;33m\u001b[0m\u001b[0m\n\u001b[1;32m--> 123\u001b[1;33m         \u001b[1;32mreturn\u001b[0m \u001b[0misinstance\u001b[0m\u001b[1;33m(\u001b[0m\u001b[0mother\u001b[0m\u001b[1;33m,\u001b[0m \u001b[0mNode\u001b[0m\u001b[1;33m)\u001b[0m \u001b[1;32mand\u001b[0m \u001b[0mself\u001b[0m\u001b[1;33m.\u001b[0m\u001b[0mstate\u001b[0m \u001b[1;33m==\u001b[0m \u001b[0mother\u001b[0m\u001b[1;33m.\u001b[0m\u001b[0mstate\u001b[0m\u001b[1;33m\u001b[0m\u001b[1;33m\u001b[0m\u001b[0m\n\u001b[0m\u001b[0;32m    124\u001b[0m \u001b[1;33m\u001b[0m\u001b[0m\n\u001b[0;32m    125\u001b[0m     \u001b[1;32mdef\u001b[0m \u001b[0m__hash__\u001b[0m\u001b[1;33m(\u001b[0m\u001b[0mself\u001b[0m\u001b[1;33m)\u001b[0m\u001b[1;33m:\u001b[0m\u001b[1;33m\u001b[0m\u001b[1;33m\u001b[0m\u001b[0m\n",
      "\u001b[1;31mKeyboardInterrupt\u001b[0m: "
     ]
    }
   ],
   "source": [
    "breadth_first_graph_search(ProblemaLinterna2(estadoInicial)).solution()"
   ]
  },
  {
   "cell_type": "markdown",
   "metadata": {},
   "source": [
    "### Planteamiento 3 del problema\n",
    "\n",
    "En esta ocasión, se plantea un problema de 7 personas (para que sea más reducido que la anterior configuración pero aumente la complejidad respecto a la inicial de 5 personas).\n",
    "\n",
    "Probamos nuevamente con la segunda heurística\n",
    "\n",
    "Además, en los siguientes planteamientos hemos probado únicamente el algoritmo A* ya que será mucho más eficiente que la búsqueda en anchura o la búsqueda en profundidad.\n",
    "\n",
    "Al final del notebook comentamos los resultados."
   ]
  },
  {
   "cell_type": "code",
   "execution_count": 39,
   "metadata": {},
   "outputs": [],
   "source": [
    "Personas = {1:10, 2:20, 3:30, 4:40, 5:50, 6:60, 7:70}\n",
    "\n",
    "estadoInicial = ((\"Izq\", 500),\n",
    "                 (1, 2, 3, 4, 5, 6, 7),\n",
    "                 ())\n",
    "\n",
    "class ProblemaLinterna3(Problem):\n",
    "    def __init__(self, initial, goal=None):\n",
    "        Problem.__init__(self, initial, goal)\n",
    "        \n",
    "    def actions(self, s):\n",
    "\n",
    "        linterna, ladoIzq, ladoDer = s\n",
    "        acciones = []\n",
    "\n",
    "        if linterna[0] == \"Izq\":\n",
    "            for x in ladoIzq:\n",
    "                for y in ladoIzq:\n",
    "                    if x != y and linterna[1] >= max([Personas[x], Personas[y]]):\n",
    "                        acciones.append((\"Mover\", (x, y)))\n",
    "\n",
    "        else:\n",
    "            for x in ladoDer:\n",
    "                if linterna[1] >= Personas[x]:\n",
    "                    acciones.append((\"Volver\", x))\n",
    "\n",
    "        return acciones\n",
    "        \n",
    "    def result(self, s, a):\n",
    "        linterna, ladoIzq, ladoDer = s\n",
    "        listaIzq = list(ladoIzq)\n",
    "        listaDer = list(ladoDer)\n",
    "        sitio, duracion = linterna\n",
    "        \n",
    "        if a[0] == \"Mover\":\n",
    "            x, y = a[1]\n",
    "            listaIzq.remove(a[1][0])\n",
    "            listaIzq.remove(a[1][1])\n",
    "            listaDer.append(a[1][0])\n",
    "            listaDer.append(a[1][1])\n",
    "            sitio = \"Der\"\n",
    "            duracion -= max([Personas[x], Personas[y]])\n",
    "        else:\n",
    "            listaIzq.append(a[1])\n",
    "            listaDer.remove(a[1])\n",
    "            sitio = \"Izq\"\n",
    "            duracion -= Personas[a[1]]\n",
    "        \n",
    "        return(sitio, duracion), tuple(listaIzq), tuple(listaDer)\n",
    "        \n",
    "    def goal_test(self, s):\n",
    "        return len(s[1]) == 0 and len(s[2]) == 5\n",
    "\n",
    "    def h(self, s):\n",
    "        \"\"\" HEURÍSTICA 1\n",
    "        linterna, a, b = s.state\n",
    "        sincruzar = len(a)\n",
    "        if linterna[0] == 'Izq':\n",
    "            return sincruzar + (sincruzar -1)\n",
    "        else:\n",
    "            if sincruzar == 0:\n",
    "                return 0\n",
    "            else:\n",
    "                return sincruzar *2\n",
    "        \"\"\"\n",
    "        \n",
    "        \"\"\" HEURISTICA 2 \"\"\"\n",
    "        suma = 0\n",
    "        vector = list(s.state[1])\n",
    "        vector.sort(reverse=True)\n",
    "        while len(vector) >= 2:\n",
    "            aux1 = vector.pop(0)\n",
    "            aux2 = vector.pop(0)\n",
    "            suma += max(Personas[aux1], Personas[aux2])\n",
    "        if len(vector) == 1:\n",
    "            suma += Personas[vector[0]]\n",
    "        return suma  \n",
    "        \n",
    "        \"\"\" HEURISTICA 3\n",
    "        suma = 0\n",
    "        vector = list(s.state[1])\n",
    "        print(vector)\n",
    "        vector.sort()\n",
    "        inicio = len(vector)/2\n",
    "        for i in range(inicio, len(vector)):\n",
    "            suma += Personas[vector[i]]\n",
    "        return suma\n",
    "        \"\"\""
   ]
  },
  {
   "cell_type": "code",
   "execution_count": 40,
   "metadata": {},
   "outputs": [
    {
     "data": {
      "text/plain": [
       "(('Izq', 500), (1, 2, 3, 4, 5, 6, 7), ())"
      ]
     },
     "execution_count": 40,
     "metadata": {},
     "output_type": "execute_result"
    }
   ],
   "source": [
    "pL3 = ProblemaLinterna3(estadoInicial)\n",
    "pL3.initial"
   ]
  },
  {
   "cell_type": "code",
   "execution_count": 41,
   "metadata": {},
   "outputs": [
    {
     "data": {
      "text/plain": [
       "[('Mover', (1, 2)),\n",
       " ('Mover', (1, 3)),\n",
       " ('Mover', (1, 4)),\n",
       " ('Mover', (1, 5)),\n",
       " ('Mover', (1, 6)),\n",
       " ('Mover', (1, 7)),\n",
       " ('Mover', (2, 1)),\n",
       " ('Mover', (2, 3)),\n",
       " ('Mover', (2, 4)),\n",
       " ('Mover', (2, 5)),\n",
       " ('Mover', (2, 6)),\n",
       " ('Mover', (2, 7)),\n",
       " ('Mover', (3, 1)),\n",
       " ('Mover', (3, 2)),\n",
       " ('Mover', (3, 4)),\n",
       " ('Mover', (3, 5)),\n",
       " ('Mover', (3, 6)),\n",
       " ('Mover', (3, 7)),\n",
       " ('Mover', (4, 1)),\n",
       " ('Mover', (4, 2)),\n",
       " ('Mover', (4, 3)),\n",
       " ('Mover', (4, 5)),\n",
       " ('Mover', (4, 6)),\n",
       " ('Mover', (4, 7)),\n",
       " ('Mover', (5, 1)),\n",
       " ('Mover', (5, 2)),\n",
       " ('Mover', (5, 3)),\n",
       " ('Mover', (5, 4)),\n",
       " ('Mover', (5, 6)),\n",
       " ('Mover', (5, 7)),\n",
       " ('Mover', (6, 1)),\n",
       " ('Mover', (6, 2)),\n",
       " ('Mover', (6, 3)),\n",
       " ('Mover', (6, 4)),\n",
       " ('Mover', (6, 5)),\n",
       " ('Mover', (6, 7)),\n",
       " ('Mover', (7, 1)),\n",
       " ('Mover', (7, 2)),\n",
       " ('Mover', (7, 3)),\n",
       " ('Mover', (7, 4)),\n",
       " ('Mover', (7, 5)),\n",
       " ('Mover', (7, 6))]"
      ]
     },
     "execution_count": 41,
     "metadata": {},
     "output_type": "execute_result"
    }
   ],
   "source": [
    "pL3.actions(pL3.initial)"
   ]
  },
  {
   "cell_type": "code",
   "execution_count": 42,
   "metadata": {},
   "outputs": [
    {
     "ename": "AttributeError",
     "evalue": "'NoneType' object has no attribute 'solution'",
     "output_type": "error",
     "traceback": [
      "\u001b[1;31m---------------------------------------------------------------------------\u001b[0m",
      "\u001b[1;31mAttributeError\u001b[0m                            Traceback (most recent call last)",
      "\u001b[1;32m<timed eval>\u001b[0m in \u001b[0;36m<module>\u001b[1;34m\u001b[0m\n",
      "\u001b[1;31mAttributeError\u001b[0m: 'NoneType' object has no attribute 'solution'"
     ]
    }
   ],
   "source": [
    "%%time\n",
    "\n",
    "astar_search(ProblemaLinterna3(estadoInicial)).solution()"
   ]
  },
  {
   "cell_type": "markdown",
   "metadata": {},
   "source": [
    "Nuevamente probamos la misma configuración anterior, pero esta vez con la tercera heurística planteada"
   ]
  },
  {
   "cell_type": "code",
   "execution_count": 68,
   "metadata": {},
   "outputs": [],
   "source": [
    "#PROBLEMA DE CRUZAR EL PUENTE CON LA LINTERNA\n",
    "\n",
    "Personas = {1:10, 2:20, 3:30, 4:40, 5:50, 6:60, 7:70}\n",
    "\n",
    "estadoInicial = ((\"Izq\", 700),\n",
    "                 (1, 2, 3, 4, 5, 6, 7),\n",
    "                 ())\n",
    "\n",
    "class ProblemaLinterna3(Problem):\n",
    "    def __init__(self, initial, goal=None):\n",
    "        Problem.__init__(self, initial, goal)\n",
    "        \n",
    "    def actions(self, s):\n",
    "\n",
    "        linterna, ladoIzq, ladoDer = s\n",
    "        acciones = []\n",
    "\n",
    "        if linterna[0] == \"Izq\":\n",
    "            for x in ladoIzq:\n",
    "                for y in ladoIzq:\n",
    "                    if x != y and linterna[1] >= max([Personas[x], Personas[y]]):\n",
    "                        acciones.append((\"Mover\", (x, y)))\n",
    "\n",
    "        else:\n",
    "            for x in ladoDer:\n",
    "                if linterna[1] >= Personas[x]:\n",
    "                    acciones.append((\"Volver\", x))\n",
    "\n",
    "        return acciones\n",
    "        \n",
    "    def result(self, s, a):\n",
    "        linterna, ladoIzq, ladoDer = s\n",
    "        listaIzq = list(ladoIzq)\n",
    "        listaDer = list(ladoDer)\n",
    "        sitio, duracion = linterna\n",
    "        \n",
    "        if a[0] == \"Mover\":\n",
    "            x, y = a[1]\n",
    "            listaIzq.remove(a[1][0])\n",
    "            listaIzq.remove(a[1][1])\n",
    "            listaDer.append(a[1][0])\n",
    "            listaDer.append(a[1][1])\n",
    "            sitio = \"Der\"\n",
    "            duracion -= max([Personas[x], Personas[y]])\n",
    "        else:\n",
    "            listaIzq.append(a[1])\n",
    "            listaDer.remove(a[1])\n",
    "            sitio = \"Izq\"\n",
    "            duracion -= Personas[a[1]]\n",
    "        \n",
    "        return(sitio, duracion), tuple(listaIzq), tuple(listaDer)\n",
    "        \n",
    "    def goal_test(self, s):\n",
    "        return len(s[1]) == 0 and len(s[2]) == 5\n",
    "\n",
    "    def h(self, s):\n",
    "        \"\"\" HEURÍSTICA 1\n",
    "        linterna, a, b = s.state\n",
    "        sincruzar = len(a)\n",
    "        if linterna[0] == 'Izq':\n",
    "            return sincruzar + (sincruzar -1)\n",
    "        else:\n",
    "            if sincruzar == 0:\n",
    "                return 0\n",
    "            else:\n",
    "                return sincruzar *2\n",
    "        \"\"\"\n",
    "        \n",
    "        \"\"\" HEURISTICA 2\n",
    "        suma = 0\n",
    "        vector = list(s.state[1])\n",
    "        vector.sort(reverse=True)\n",
    "        while len(vector) >= 2:\n",
    "            aux1 = vector.pop(0)\n",
    "            aux2 = vector.pop(0)\n",
    "            suma += max(Personas[aux1], Personas[aux2])\n",
    "        if len(vector) == 1:\n",
    "            suma += Personas[vector[0]]\n",
    "        return suma  \n",
    "        \"\"\"\n",
    "        \"\"\" HEURISTICA 3 \"\"\"\n",
    "        suma = 0\n",
    "        vector = list(s.state[1])\n",
    "        vector.sort()\n",
    "        inicio = int(len(vector)/2)\n",
    "        for i in range(inicio, len(vector)):\n",
    "            suma += Personas[vector[i]]\n",
    "        return suma"
   ]
  },
  {
   "cell_type": "code",
   "execution_count": 69,
   "metadata": {},
   "outputs": [
    {
     "data": {
      "text/plain": [
       "(('Izq', 700), (1, 2, 3, 4, 5, 6, 7), ())"
      ]
     },
     "execution_count": 69,
     "metadata": {},
     "output_type": "execute_result"
    }
   ],
   "source": [
    "pL3 = ProblemaLinterna3(estadoInicial)\n",
    "pL3.initial"
   ]
  },
  {
   "cell_type": "code",
   "execution_count": 70,
   "metadata": {},
   "outputs": [
    {
     "data": {
      "text/plain": [
       "[('Mover', (1, 2)),\n",
       " ('Mover', (1, 3)),\n",
       " ('Mover', (1, 4)),\n",
       " ('Mover', (1, 5)),\n",
       " ('Mover', (1, 6)),\n",
       " ('Mover', (1, 7)),\n",
       " ('Mover', (2, 1)),\n",
       " ('Mover', (2, 3)),\n",
       " ('Mover', (2, 4)),\n",
       " ('Mover', (2, 5)),\n",
       " ('Mover', (2, 6)),\n",
       " ('Mover', (2, 7)),\n",
       " ('Mover', (3, 1)),\n",
       " ('Mover', (3, 2)),\n",
       " ('Mover', (3, 4)),\n",
       " ('Mover', (3, 5)),\n",
       " ('Mover', (3, 6)),\n",
       " ('Mover', (3, 7)),\n",
       " ('Mover', (4, 1)),\n",
       " ('Mover', (4, 2)),\n",
       " ('Mover', (4, 3)),\n",
       " ('Mover', (4, 5)),\n",
       " ('Mover', (4, 6)),\n",
       " ('Mover', (4, 7)),\n",
       " ('Mover', (5, 1)),\n",
       " ('Mover', (5, 2)),\n",
       " ('Mover', (5, 3)),\n",
       " ('Mover', (5, 4)),\n",
       " ('Mover', (5, 6)),\n",
       " ('Mover', (5, 7)),\n",
       " ('Mover', (6, 1)),\n",
       " ('Mover', (6, 2)),\n",
       " ('Mover', (6, 3)),\n",
       " ('Mover', (6, 4)),\n",
       " ('Mover', (6, 5)),\n",
       " ('Mover', (6, 7)),\n",
       " ('Mover', (7, 1)),\n",
       " ('Mover', (7, 2)),\n",
       " ('Mover', (7, 3)),\n",
       " ('Mover', (7, 4)),\n",
       " ('Mover', (7, 5)),\n",
       " ('Mover', (7, 6))]"
      ]
     },
     "execution_count": 70,
     "metadata": {},
     "output_type": "execute_result"
    }
   ],
   "source": [
    "pL3.actions(pL3.initial)"
   ]
  },
  {
   "cell_type": "code",
   "execution_count": 67,
   "metadata": {},
   "outputs": [
    {
     "ename": "AttributeError",
     "evalue": "'NoneType' object has no attribute 'solution'",
     "output_type": "error",
     "traceback": [
      "\u001b[1;31m---------------------------------------------------------------------------\u001b[0m",
      "\u001b[1;31mAttributeError\u001b[0m                            Traceback (most recent call last)",
      "\u001b[1;32m<timed eval>\u001b[0m in \u001b[0;36m<module>\u001b[1;34m\u001b[0m\n",
      "\u001b[1;31mAttributeError\u001b[0m: 'NoneType' object has no attribute 'solution'"
     ]
    }
   ],
   "source": [
    "%%time\n",
    "\n",
    "astar_search(ProblemaLinterna3(estadoInicial)).solution()"
   ]
  },
  {
   "cell_type": "markdown",
   "metadata": {},
   "source": [
    "## Conclusiones\n",
    "\n",
    "Como podemos observar, la representación del estado y la composición del problema es correcta ya que en el primer planteamiento con 5 personas, el funcionamiento es correcto.\n",
    "\n",
    "Por otro lado, cuando planteamos el problema con 10 personas, la complejidad aumenta mucho y la ejecución de la búsqueda es tan larga que tenemos que detenerla.\n",
    "\n",
    "Para el último planteamiento, la ejecución ha terminado al pasar alrededor de 25 minutos pero no ha dado resultado para ninguna de las dos heurísticas."
   ]
  }
 ],
 "metadata": {
  "kernelspec": {
   "display_name": "Python 3",
   "language": "python",
   "name": "python3"
  },
  "language_info": {
   "codemirror_mode": {
    "name": "ipython",
    "version": 3
   },
   "file_extension": ".py",
   "mimetype": "text/x-python",
   "name": "python",
   "nbconvert_exporter": "python",
   "pygments_lexer": "ipython3",
   "version": "3.8.3"
  }
 },
 "nbformat": 4,
 "nbformat_minor": 4
}
